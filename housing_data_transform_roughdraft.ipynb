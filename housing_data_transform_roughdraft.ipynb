{
  "nbformat": 4,
  "nbformat_minor": 0,
  "metadata": {
    "colab": {
      "name": "housing_data_transform.ipynb",
      "provenance": [],
      "collapsed_sections": [],
      "authorship_tag": "ABX9TyNJA0X2ldpJx5kaqw/lQCWe",
      "include_colab_link": true
    },
    "kernelspec": {
      "name": "python3",
      "display_name": "Python 3"
    },
    "language_info": {
      "name": "python"
    }
  },
  "cells": [
    {
      "cell_type": "markdown",
      "metadata": {
        "id": "view-in-github",
        "colab_type": "text"
      },
      "source": [
        "<a href=\"https://colab.research.google.com/github/tyleryou/housing_data/blob/main/housing_data_transform_roughdraft.ipynb\" target=\"_parent\"><img src=\"https://colab.research.google.com/assets/colab-badge.svg\" alt=\"Open In Colab\"/></a>"
      ]
    },
    {
      "cell_type": "code",
      "source": [
        "## I think I need to use onehotencoder instead of dummy variables, and need to scale y somehow. And concating pandas dataframes is just making up 0's and doesn't work. Can I concat without throwing in NaN values? Try adding ID to categorical features and joining on that. Also, try dropping the NaN instances. -- Dropping null values did improve the model, but I had to drop y values as well. Only had to drop 8, so might be worth just dropping instead of filling with the mean.\n",
        "## Null values come from concatenating in general. Can I standardize and impute sans separating the data?\n",
        "## trainset_total.reset_index(drop=True, inplace=True) fixed the concat issue, and completely validated the model and basically fixed everything.\n",
        "## Now to make OneHotEncoder work and stack the models."
      ],
      "metadata": {
        "id": "cwj7YFjVnY4S"
      },
      "execution_count": null,
      "outputs": []
    },
    {
      "cell_type": "code",
      "execution_count": null,
      "metadata": {
        "id": "qi4cACH1lFM3"
      },
      "outputs": [],
      "source": [
        "import sklearn\n",
        "import numpy as np                 # Linear Algebra Calculations\n",
        "import matplotlib.pyplot as plt    # Data Plotting\n",
        "import pandas as pd                # DataFrames\n",
        "pd.options.mode.chained_assignment = None  # default='warn', turn off warning errors when writing pandas dataframes over original dataframe.\n",
        "import seaborn as sns              # Data Visualization\n",
        "sns.set_theme(style='darkgrid')"
      ]
    },
    {
      "cell_type": "code",
      "source": [
        "## Importing the data from github repository.\n",
        "\n",
        "url = 'https://raw.githubusercontent.com/tyleryou/housing_data/main/ingested_train.csv'\n",
        "\n",
        "trainingset = pd.read_csv(url)\n",
        "\n",
        "url_test = 'https://raw.githubusercontent.com/tyleryou/housing_data/main/ingested_test.csv'\n",
        "\n",
        "testset = pd.read_csv(url_test)"
      ],
      "metadata": {
        "id": "L9D1bCaWxLJN"
      },
      "execution_count": null,
      "outputs": []
    },
    {
      "cell_type": "markdown",
      "source": [
        "Now that the features have been thinned, we can look into feature transformation.\n",
        "\n",
        "First among the transformation work is filling in the missing data. However, to do this we must check for outliers in the data so that we can use means or medians that accurately represent each feature."
      ],
      "metadata": {
        "id": "NoZRp_pCEqwc"
      }
    },
    {
      "cell_type": "markdown",
      "source": [
        "First up on the list of features is the highest correlated one, OverallQual. Graphically we can see this as a bar graph."
      ],
      "metadata": {
        "id": "klkcGhrQYGNh"
      }
    },
    {
      "cell_type": "code",
      "source": [
        "pivot = trainingset.pivot_table(index='OverallQual', values='SalePrice')"
      ],
      "metadata": {
        "id": "lLZd0TA8YdCQ"
      },
      "execution_count": null,
      "outputs": []
    },
    {
      "cell_type": "code",
      "source": [
        "pivot.plot(kind='bar', color='blue')\n",
        "plt.xlabel('OverallQual')\n",
        "plt.ylabel('SalePrice')\n",
        "plt.xticks(rotation=0)\n",
        "plt.show()"
      ],
      "metadata": {
        "colab": {
          "base_uri": "https://localhost:8080/",
          "height": 285
        },
        "id": "skVfEezYGKaA",
        "outputId": "08d0e9d9-ac6c-436c-f991-49f15e4310b2"
      },
      "execution_count": null,
      "outputs": [
        {
          "output_type": "display_data",
          "data": {
            "image/png": "[encoded data removed]",
            "text/plain": [
              "<Figure size 432x288 with 1 Axes>"
            ]
          },
          "metadata": {}
        }
      ]
    },
    {
      "cell_type": "markdown",
      "source": [
        "Here we can see that as OverallQual gets a higher magnitude, so does the SalePrice. This makes sense, and does not show any outliers that stand out.\n",
        "\n",
        "Next we'll look into TotalSqFt, which is the second highest correlated feature to the target. "
      ],
      "metadata": {
        "id": "ccTf0yC3YoTg"
      }
    },
    {
      "cell_type": "code",
      "source": [
        "## Defining a function to plot a correlation scatter plot between a feature and the target.\n",
        "def PltSctter(feature):\n",
        "  plt.scatter(x=trainingset[feature], y=trainingset['SalePrice'])\n",
        "  plt.xlabel(feature)\n",
        "  plt.ylabel('SalePrice')\n",
        "  plt.show()"
      ],
      "metadata": {
        "id": "fQnp2GWcHJe5"
      },
      "execution_count": null,
      "outputs": []
    },
    {
      "cell_type": "code",
      "source": [
        "PltSctter('TotalSqFt')"
      ],
      "metadata": {
        "colab": {
          "base_uri": "https://localhost:8080/",
          "height": 285
        },
        "id": "vfQ-6F2OYgsr",
        "outputId": "0854afb4-7c12-4499-8962-7dd435cee0d7"
      },
      "execution_count": null,
      "outputs": [
        {
          "output_type": "display_data",
          "data": {
            "image/png": "[encoded data removed]",
            "text/plain": [
              "<Figure size 432x288 with 1 Axes>"
            ]
          },
          "metadata": {}
        }
      ]
    },
    {
      "cell_type": "markdown",
      "source": [
        "Here we can see there are a couple of outliers to the data. These could throw off linear regression models, of which the predictions will likely be based on. It's a good idea to remove these."
      ],
      "metadata": {
        "id": "XdmTO8OPcxY2"
      }
    },
    {
      "cell_type": "code",
      "source": [
        "trainingset = trainingset[trainingset['TotalSqFt'] < 7000]"
      ],
      "metadata": {
        "id": "uymbxQyUcvCf"
      },
      "execution_count": null,
      "outputs": []
    },
    {
      "cell_type": "code",
      "source": [
        "PltSctter('TotalSqFt')"
      ],
      "metadata": {
        "colab": {
          "base_uri": "https://localhost:8080/",
          "height": 285
        },
        "id": "LWqKeMlTdOBv",
        "outputId": "488a5f64-c293-4b6c-9e47-dbaa32fa9ba7"
      },
      "execution_count": null,
      "outputs": [
        {
          "output_type": "display_data",
          "data": {
            "image/png": "[encoded data removed]",
            "text/plain": [
              "<Figure size 432x288 with 1 Axes>"
            ]
          },
          "metadata": {}
        }
      ]
    },
    {
      "cell_type": "markdown",
      "source": [
        "While this data still isn't very linear, it is much better in terms of outliers.\n",
        "\n",
        "Next is visualizing the correlation between GrLivArea and the target SalePrice."
      ],
      "metadata": {
        "id": "y5DMPTa9ddfd"
      }
    },
    {
      "cell_type": "code",
      "source": [
        "PltSctter('GrLivArea')"
      ],
      "metadata": {
        "colab": {
          "base_uri": "https://localhost:8080/",
          "height": 285
        },
        "id": "-DZR6HzVdPHq",
        "outputId": "092644d9-075c-4adf-db34-ea3ae2a75bf0"
      },
      "execution_count": null,
      "outputs": [
        {
          "output_type": "display_data",
          "data": {
            "image/png": "[encoded data removed]",
            "text/plain": [
              "<Figure size 432x288 with 1 Axes>"
            ]
          },
          "metadata": {}
        }
      ]
    },
    {
      "cell_type": "markdown",
      "source": [
        "No outliers here, but we can see a conic shape to the data which represents heteroscedascticity. The linear regression models will predict more efficiently when data shows homoscedascticity -- which is an even linear distribution of the data values. This can be achieved through further transformation, which is what we will do later.\n",
        "\n",
        "Next up is to look at GarageCars."
      ],
      "metadata": {
        "id": "ylGkYhoJd1-q"
      }
    },
    {
      "cell_type": "code",
      "source": [
        "PltSctter('GarageCars')"
      ],
      "metadata": {
        "colab": {
          "base_uri": "https://localhost:8080/",
          "height": 285
        },
        "id": "YBsbwe5BduRc",
        "outputId": "0b180273-7b78-42eb-c496-1056b7b563f4"
      },
      "execution_count": null,
      "outputs": [
        {
          "output_type": "display_data",
          "data": {
            "image/png": "[encoded data removed]",
            "text/plain": [
              "<Figure size 432x288 with 1 Axes>"
            ]
          },
          "metadata": {}
        }
      ]
    },
    {
      "cell_type": "markdown",
      "source": [
        "Interestingly we can see that houses that have four car garages are worth less. Since all of the 4 car garages are worth less, we can assume these aren't outliers and is a good representation of the GarageCars worth."
      ],
      "metadata": {
        "id": "txk7NTQYfHny"
      }
    },
    {
      "cell_type": "code",
      "source": [
        "plt.scatter(x=trainingset['GarageCars'], y=trainingset['GrLivArea'])\n",
        "plt.ylabel('GrLivArea')\n",
        "plt.xlabel('GarageCars')\n",
        "plt.show()"
      ],
      "metadata": {
        "colab": {
          "base_uri": "https://localhost:8080/",
          "height": 285
        },
        "id": "zeaiKyamfEPI",
        "outputId": "977d0f9c-5bd2-47f7-9876-17b7f864b05c"
      },
      "execution_count": null,
      "outputs": [
        {
          "output_type": "display_data",
          "data": {
            "image/png": "[encoded data removed]",
            "text/plain": [
              "<Figure size 432x288 with 1 Axes>"
            ]
          },
          "metadata": {}
        }
      ]
    },
    {
      "cell_type": "markdown",
      "source": [
        "Looks like the GrLivArea decreases as GarageCars increases. This appears to be an accuarte representation and makes sense, as a garage this big isn't entirely necessary and may cut into the living area of the home."
      ],
      "metadata": {
        "id": "nz4jLz_2gSAs"
      }
    },
    {
      "cell_type": "code",
      "source": [
        "PltSctter('GarageArea')"
      ],
      "metadata": {
        "id": "uuP-HrDSfYu9",
        "colab": {
          "base_uri": "https://localhost:8080/",
          "height": 285
        },
        "outputId": "265e5ed2-6537-497f-a0d0-a20e7f61c7da"
      },
      "execution_count": null,
      "outputs": [
        {
          "output_type": "display_data",
          "data": {
            "image/png": "[encoded data removed]",
            "text/plain": [
              "<Figure size 432x288 with 1 Axes>"
            ]
          },
          "metadata": {}
        }
      ]
    },
    {
      "cell_type": "markdown",
      "source": [
        "Here we can see the graphical representation of 0 values in the data. However, these aren't necessarily missing. The 0's can mean there is no garage, so we don't want to fill these in with median values. A few outliers, but not as pronounced as the ones from TotalSqFt. We'll leave these here, as we don't want to eliminate too much data."
      ],
      "metadata": {
        "id": "Sqb3tEINEdRw"
      }
    },
    {
      "cell_type": "code",
      "source": [
        "PltSctter('TotalBsmtSF')"
      ],
      "metadata": {
        "colab": {
          "base_uri": "https://localhost:8080/",
          "height": 285
        },
        "id": "mnDj_DsuESYi",
        "outputId": "d9cd0c3c-d944-4c45-92f6-5f1627e0382c"
      },
      "execution_count": null,
      "outputs": [
        {
          "output_type": "display_data",
          "data": {
            "image/png": "[encoded data removed]",
            "text/plain": [
              "<Figure size 432x288 with 1 Axes>"
            ]
          },
          "metadata": {}
        }
      ]
    },
    {
      "cell_type": "markdown",
      "source": [
        "Nothing crazy here, we have some zero values but these could represent a lack of basement."
      ],
      "metadata": {
        "id": "uFMYrs5CGCf3"
      }
    },
    {
      "cell_type": "code",
      "source": [
        "PltSctter('1stFlrSF')"
      ],
      "metadata": {
        "colab": {
          "base_uri": "https://localhost:8080/",
          "height": 285
        },
        "id": "3-eF4hp9GBiC",
        "outputId": "7489d756-2d2b-44cc-c0a5-c7fa508889bc"
      },
      "execution_count": null,
      "outputs": [
        {
          "output_type": "display_data",
          "data": {
            "image/png": "[encoded data removed]",
            "text/plain": [
              "<Figure size 432x288 with 1 Axes>"
            ]
          },
          "metadata": {}
        }
      ]
    },
    {
      "cell_type": "markdown",
      "source": [
        "No issues here."
      ],
      "metadata": {
        "id": "mmJtOH1IGSJJ"
      }
    },
    {
      "cell_type": "code",
      "source": [
        "PltSctter('TotRmsAbvGrd')"
      ],
      "metadata": {
        "colab": {
          "base_uri": "https://localhost:8080/",
          "height": 285
        },
        "id": "fK6_STriG25R",
        "outputId": "813293ac-ce6f-487e-ad17-cc8e5ac40601"
      },
      "execution_count": null,
      "outputs": [
        {
          "output_type": "display_data",
          "data": {
            "image/png": "[encoded data removed]",
            "text/plain": [
              "<Figure size 432x288 with 1 Axes>"
            ]
          },
          "metadata": {}
        }
      ]
    },
    {
      "cell_type": "markdown",
      "source": [
        "Some houses have more rooms but are worth considerably less, this could be due to the quality of the house."
      ],
      "metadata": {
        "id": "psPprIGhINU4"
      }
    },
    {
      "cell_type": "code",
      "source": [
        "plt.scatter(x=trainingset['OverallQual'], y=trainingset['TotRmsAbvGrd'])\n",
        "plt.ylabel('TotRmsAbvGrd')\n",
        "plt.xlabel('OverallQual')\n",
        "plt.show()"
      ],
      "metadata": {
        "colab": {
          "base_uri": "https://localhost:8080/",
          "height": 285
        },
        "id": "rbU7MFXxIHYn",
        "outputId": "94084fec-b48a-433b-f36c-9359fc4f8244"
      },
      "execution_count": null,
      "outputs": [
        {
          "output_type": "display_data",
          "data": {
            "image/png": "[encoded data removed]",
            "text/plain": [
              "<Figure size 432x288 with 1 Axes>"
            ]
          },
          "metadata": {}
        }
      ]
    },
    {
      "cell_type": "markdown",
      "source": [
        "We can see here that the 14 room home is only rated as 6 for Overall Quality. This means the house is probably very large, but also quite poor quality. Still, this is quite an outlier so we can go ahead and remove it."
      ],
      "metadata": {
        "id": "-RFHZRuBIvYM"
      }
    },
    {
      "cell_type": "code",
      "source": [
        "trainingset = trainingset[trainingset['TotRmsAbvGrd'] < 14]"
      ],
      "metadata": {
        "id": "GQKd4qN1IcUt"
      },
      "execution_count": null,
      "outputs": []
    },
    {
      "cell_type": "code",
      "source": [
        "PltSctter('LotArea')"
      ],
      "metadata": {
        "colab": {
          "base_uri": "https://localhost:8080/",
          "height": 285
        },
        "id": "kk9_6sZhNUeb",
        "outputId": "9edff010-4a9f-4516-cdc9-0f2f47a8b10d"
      },
      "execution_count": null,
      "outputs": [
        {
          "output_type": "display_data",
          "data": {
            "image/png": "[encoded data removed]",
            "text/plain": [
              "<Figure size 432x288 with 1 Axes>"
            ]
          },
          "metadata": {}
        }
      ]
    },
    {
      "cell_type": "code",
      "source": [
        "trainingset = trainingset[trainingset['LotArea'] < 70000]"
      ],
      "metadata": {
        "id": "Fau740GLNgob"
      },
      "execution_count": null,
      "outputs": []
    },
    {
      "cell_type": "markdown",
      "source": [
        "Now it's time to fill in missing values for the categorical features. First we have to split the dataset into numerical and categorical features."
      ],
      "metadata": {
        "id": "szx_XNbGD5Oi"
      }
    },
    {
      "cell_type": "code",
      "source": [
        "y = trainingset['SalePrice']"
      ],
      "metadata": {
        "id": "k4qyB53YlbzI"
      },
      "execution_count": null,
      "outputs": []
    },
    {
      "cell_type": "code",
      "source": [
        "trainingset = trainingset.drop(columns = 'SalePrice')"
      ],
      "metadata": {
        "id": "cEFDErVYlbzI"
      },
      "execution_count": null,
      "outputs": []
    },
    {
      "cell_type": "code",
      "source": [
        "trainset_nums = trainingset.select_dtypes(np.number)\n",
        "trainset_cats = trainingset.select_dtypes([object])"
      ],
      "metadata": {
        "id": "hCRu7hIiFvBU"
      },
      "execution_count": null,
      "outputs": []
    },
    {
      "cell_type": "code",
      "source": [
        "testset_nums = trainingset.select_dtypes(np.number)\n",
        "testset_cats = trainingset.select_dtypes([object])"
      ],
      "metadata": {
        "id": "mUm3XxRfemhG"
      },
      "execution_count": null,
      "outputs": []
    },
    {
      "cell_type": "code",
      "source": [
        "from sklearn.impute import SimpleImputer\n",
        "imputer = SimpleImputer(missing_values = np.nan, strategy = 'median')\n",
        "filled_nums = imputer.fit_transform(trainset_nums)"
      ],
      "metadata": {
        "id": "VCJ0oKF_cOiG"
      },
      "execution_count": null,
      "outputs": []
    },
    {
      "cell_type": "code",
      "source": [
        "testset_numfilled = imputer.transform(testset_nums)"
      ],
      "metadata": {
        "id": "gsHXEhI1eRaK"
      },
      "execution_count": null,
      "outputs": []
    },
    {
      "cell_type": "code",
      "source": [
        "filled_nums = pd.DataFrame(filled_nums,columns=trainset_nums.columns)"
      ],
      "metadata": {
        "id": "JxQRrhc-mpqg"
      },
      "execution_count": null,
      "outputs": []
    },
    {
      "cell_type": "code",
      "source": [
        "testset_numfilled = pd.DataFrame(testset_numfilled,columns=testset_nums.columns)"
      ],
      "metadata": {
        "id": "kYJw-BCHfCD9"
      },
      "execution_count": null,
      "outputs": []
    },
    {
      "cell_type": "code",
      "source": [
        "#encoded_cats = pd.get_dummies(trainset_cats, drop_first = True) ## Commenting out to include OHC."
      ],
      "metadata": {
        "id": "qRVZiWt5gKIt"
      },
      "execution_count": null,
      "outputs": []
    },
    {
      "cell_type": "code",
      "source": [
        "#encoded_testcats = pd.get_dummies(testset_cats, drop_first = True)"
      ],
      "metadata": {
        "id": "il1C0lsRfKE-"
      },
      "execution_count": null,
      "outputs": []
    },
    {
      "cell_type": "code",
      "source": [
        "from sklearn.preprocessing import OneHotEncoder\n",
        "ohc = OneHotEncoder(drop='first', sparse=False) ## Dropping one of the categories per feature to avoid dummy variable trap. Try not dropping to see what happens."
      ],
      "metadata": {
        "id": "nVlJKck-lNfN"
      },
      "execution_count": null,
      "outputs": []
    },
    {
      "cell_type": "code",
      "source": [
        "encoded_cats = pd.DataFrame(ohc.fit_transform(trainset_cats))"
      ],
      "metadata": {
        "id": "VQx3wzsUlTs2"
      },
      "execution_count": null,
      "outputs": []
    },
    {
      "cell_type": "code",
      "source": [
        "encoded_testcats = pd.DataFrame(ohc.transform(testset_cats))"
      ],
      "metadata": {
        "id": "OxkBM-l3mL8s"
      },
      "execution_count": null,
      "outputs": []
    },
    {
      "cell_type": "code",
      "source": [
        "y = np.log1p(y)"
      ],
      "metadata": {
        "id": "DrQmxvAlovzG"
      },
      "execution_count": null,
      "outputs": []
    },
    {
      "cell_type": "code",
      "source": [
        "#a = trainingset.iloc[:,2]"
      ],
      "metadata": {
        "id": "rAo8M5jePnRt"
      },
      "execution_count": null,
      "outputs": []
    },
    {
      "cell_type": "code",
      "source": [
        "#i = 0\n",
        "#for i in trainingset.iloc[1,i]:\n",
        "#  if trainingset.iloc[1,i].dtype == 'O':\n",
        "#    print('test')"
      ],
      "metadata": {
        "id": "A_pLoulzQkgQ"
      },
      "execution_count": null,
      "outputs": []
    },
    {
      "cell_type": "code",
      "source": [
        "#from sklearn.preprocessing import Normalizer\n",
        "#norm = Normalizer()\n",
        "#filled_nums = pd.DataFrame(norm.fit_transform(filled_nums,y),columns=trainset_nums.columns) #### I think Y needs to be scaled somehow. What's happening in this normalizer? What is it doing with y?"
      ],
      "metadata": {
        "id": "WdgWQ-DKkgc1"
      },
      "execution_count": null,
      "outputs": []
    },
    {
      "cell_type": "code",
      "source": [
        "from sklearn.preprocessing import StandardScaler\n",
        "sc = StandardScaler() # No parameters needed\n",
        "filled_nums = pd.DataFrame(sc.fit_transform(filled_nums, y), columns = trainset_nums.columns) ##### MADE CHANGE HERE\n",
        "testset_numfilled = pd.DataFrame(sc.transform(testset_numfilled)) "
      ],
      "metadata": {
        "id": "Fli8PHYJpCRC"
      },
      "execution_count": null,
      "outputs": []
    },
    {
      "cell_type": "code",
      "source": [
        "#testset_numfilled = pd.DataFrame(norm.transform(testset_numfilled),columns=testset_nums.columns)"
      ],
      "metadata": {
        "id": "LcG0fUjHfOPM"
      },
      "execution_count": null,
      "outputs": []
    },
    {
      "cell_type": "code",
      "source": [
        "filled_nums.reset_index(drop=True, inplace=True) ## Prepping training data for concat\n",
        "encoded_cats.reset_index(drop=True, inplace=True)"
      ],
      "metadata": {
        "id": "NOVEC8i5TCkt"
      },
      "execution_count": null,
      "outputs": []
    },
    {
      "cell_type": "code",
      "source": [
        "testset_numfilled.reset_index(drop=True, inplace=True)\n",
        "encoded_testcats.reset_index(drop=True, inplace=True)"
      ],
      "metadata": {
        "id": "KnH5wdCYTX3D"
      },
      "execution_count": null,
      "outputs": []
    },
    {
      "cell_type": "code",
      "source": [
        "trainset_total = pd.concat([filled_nums,encoded_cats],axis=1)"
      ],
      "metadata": {
        "id": "JJMXQD3agaei"
      },
      "execution_count": null,
      "outputs": []
    },
    {
      "cell_type": "code",
      "source": [
        "testset_total = pd.concat([testset_numfilled,encoded_testcats],axis=1)"
      ],
      "metadata": {
        "id": "jU4MB6LAgFxz"
      },
      "execution_count": null,
      "outputs": []
    },
    {
      "cell_type": "markdown",
      "source": [
        "TRANSFORM END HERE"
      ],
      "metadata": {
        "id": "whZzHGHCXpCD"
      }
    },
    {
      "cell_type": "code",
      "source": [
        "#trainset_total = trainset_total.dropna() ## Dropping null instances arising from concating the trainset and testset. Improves model."
      ],
      "metadata": {
        "id": "fbNHv0AqL3li"
      },
      "execution_count": null,
      "outputs": []
    },
    {
      "cell_type": "code",
      "source": [
        "#testset_total = testset_total.dropna() ## Dropping null instances."
      ],
      "metadata": {
        "id": "ZJenbX9yL5i4"
      },
      "execution_count": null,
      "outputs": []
    },
    {
      "cell_type": "code",
      "source": [
        "#trainset_total = trainset_total.fillna(trainset_total.mean()) #better results, not by much\n",
        "#trainset_total = trainset_total.fillna(0)"
      ],
      "metadata": {
        "id": "medDHucuhJFj"
      },
      "execution_count": null,
      "outputs": []
    },
    {
      "cell_type": "code",
      "source": [
        "#testset_total = testset_total.fillna(trainset_total.mean()) #better results, not by much\n",
        "#testset_total = testset_total.fillna(0)"
      ],
      "metadata": {
        "id": "KMAtNS_XgJ_a"
      },
      "execution_count": null,
      "outputs": []
    },
    {
      "cell_type": "code",
      "source": [
        "#from sklearn.preprocessing import OneHotEncoder\n",
        "#ohc = OneHotEncoder(drop='first') ## Dropping one of the categories per feature to avoid dummy variable trap. Try not dropping to see what happens."
      ],
      "metadata": {
        "id": "S51h0erfc6on"
      },
      "execution_count": null,
      "outputs": []
    },
    {
      "cell_type": "code",
      "source": [
        "#encoded_cats = ohc.fit_transform(filled_cats)"
      ],
      "metadata": {
        "id": "V_bY_2ecf16g"
      },
      "execution_count": null,
      "outputs": []
    },
    {
      "cell_type": "code",
      "source": [
        "x = range(len(testset_total.index)-len(y)) ## A test if the target has less rows than the training and test set, if it does then drop values.\n",
        "for n in x:\n",
        "  testset_total = testset_total.drop(labels = n)\n",
        "  trainset_total = trainset_total.drop(labels = n)"
      ],
      "metadata": {
        "id": "5XTjZKCmgUNn"
      },
      "execution_count": null,
      "outputs": []
    },
    {
      "cell_type": "code",
      "source": [
        "from sklearn.linear_model import LinearRegression\n",
        "lr = LinearRegression()\n",
        "lr.fit(np.array(trainset_total),np.array(y))\n",
        "lr_prediction = lr.predict(np.array(testset_total))"
      ],
      "metadata": {
        "id": "CrUEiXeWkTuH"
      },
      "execution_count": null,
      "outputs": []
    },
    {
      "cell_type": "code",
      "source": [
        "plt.scatter(x=lr_prediction, y=y)\n",
        "plt.ylabel('Actual Value')\n",
        "plt.xlabel('Predicted Value')\n",
        "plt.show()"
      ],
      "metadata": {
        "colab": {
          "base_uri": "https://localhost:8080/",
          "height": 285
        },
        "id": "l-vqALRFif6C",
        "outputId": "bc143fcb-6362-46ae-c40c-480e8c866594"
      },
      "execution_count": null,
      "outputs": [
        {
          "output_type": "display_data",
          "data": {
            "image/png": "[encoded data removed]",
            "text/plain": [
              "<Figure size 432x288 with 1 Axes>"
            ]
          },
          "metadata": {}
        }
      ]
    },
    {
      "cell_type": "code",
      "source": [
        "from sklearn.metrics import mean_squared_error\n",
        "from sklearn.metrics import mean_absolute_error\n",
        "from sklearn.metrics import r2_score"
      ],
      "metadata": {
        "id": "GTnnXQgVodmB"
      },
      "execution_count": null,
      "outputs": []
    },
    {
      "cell_type": "code",
      "source": [
        "def GetErrors(y_true, y_pred):\n",
        "  mse = mean_squared_error(y_true, y_pred) ## Mean Squared Error. Closer to 0 is better.\n",
        "  rmse = mean_squared_error(y_true, y_pred, squared = False) ## Root Mean Squared Error. Closer to 0 is better.\n",
        "  mae = mean_absolute_error(y_true, y_pred) ## Mean Absolute Error. Close to 0 is better.\n",
        "  r2 = r2_score(y_true, y_pred) ## Suppose to be between 0 and 1. Closer to 1 is better. Negative means poorly fitting model.\n",
        "  print('MSE is: {}'.format(mse))\n",
        "  print('RMSE is: {}'.format(rmse))\n",
        "  print('MAE is: {}'.format(mae))\n",
        "  print('R Squared is: {}'.format(r2))"
      ],
      "metadata": {
        "id": "oaQcdEqkojTy"
      },
      "execution_count": null,
      "outputs": []
    },
    {
      "cell_type": "code",
      "source": [
        "GetErrors(y, lr_prediction) ## Figure out why R squared is negative."
      ],
      "metadata": {
        "colab": {
          "base_uri": "https://localhost:8080/"
        },
        "id": "VhlBLpHPokbA",
        "outputId": "6c12190f-4970-47ed-d14c-c08d98c2d55e"
      },
      "execution_count": null,
      "outputs": [
        {
          "output_type": "stream",
          "name": "stdout",
          "text": [
            "MSE is: 0.008909058071718753\n",
            "RMSE is: 0.09438780679578668\n",
            "MAE is: 0.0672575775311495\n",
            "R Squared is: 0.9440265609102738\n"
          ]
        }
      ]
    },
    {
      "cell_type": "code",
      "source": [
        "from sklearn.svm import SVR\n",
        "svr_reg = SVR(kernel = 'poly') ## many different kernels, need to look more into this.\n",
        "svr_reg.fit(np.array(trainset_total), np.array(y))\n",
        "svr_pred = svr_reg.predict(np.array(testset_total))"
      ],
      "metadata": {
        "id": "2mIdVRavpgrT"
      },
      "execution_count": null,
      "outputs": []
    },
    {
      "cell_type": "code",
      "source": [
        "GetErrors(y, svr_pred)"
      ],
      "metadata": {
        "colab": {
          "base_uri": "https://localhost:8080/"
        },
        "id": "Ms1WlZu3p5Zj",
        "outputId": "9b73fc34-9c29-4526-b393-4659deb482b6"
      },
      "execution_count": null,
      "outputs": [
        {
          "output_type": "stream",
          "name": "stdout",
          "text": [
            "MSE is: 0.005874896889485422\n",
            "RMSE is: 0.07664787596199533\n",
            "MAE is: 0.0643107789154827\n",
            "R Squared is: 0.9630894556355054\n"
          ]
        }
      ]
    },
    {
      "cell_type": "code",
      "source": [
        "from sklearn import linear_model\n",
        "clf = linear_model.Lasso(alpha=.0003)\n",
        "clf.fit(np.array(trainset_total), np.array(y))\n",
        "las_pred = clf.predict(np.array(testset_total))"
      ],
      "metadata": {
        "id": "AsA5oJ4Cp7LT"
      },
      "execution_count": null,
      "outputs": []
    },
    {
      "cell_type": "code",
      "source": [
        "GetErrors(y, las_pred)"
      ],
      "metadata": {
        "colab": {
          "base_uri": "https://localhost:8080/"
        },
        "id": "9Ls3EZEyqcl1",
        "outputId": "4ea3edd0-e6f4-4fc1-c14d-0bc55bf5ccbd"
      },
      "execution_count": null,
      "outputs": [
        {
          "output_type": "stream",
          "name": "stdout",
          "text": [
            "MSE is: 0.010517866051773211\n",
            "RMSE is: 0.10255664801354036\n",
            "MAE is: 0.07250894742516457\n",
            "R Squared is: 0.9339188127337855\n"
          ]
        }
      ]
    },
    {
      "cell_type": "code",
      "source": [
        "from sklearn.linear_model import Ridge\n",
        "ridge_reg = linear_model.Ridge(alpha=.1)\n",
        "ridge_reg.fit(np.array(trainset_total), np.array(y))\n",
        "ridge_pred = ridge_reg.predict(np.array(testset_total))"
      ],
      "metadata": {
        "id": "NSYDU3ByqIDT"
      },
      "execution_count": null,
      "outputs": []
    },
    {
      "cell_type": "code",
      "source": [
        "GetErrors(y, ridge_pred)"
      ],
      "metadata": {
        "colab": {
          "base_uri": "https://localhost:8080/"
        },
        "id": "hOwnw6ZIqS7S",
        "outputId": "8160a809-a209-4a8f-a877-2ec57933389b"
      },
      "execution_count": null,
      "outputs": [
        {
          "output_type": "stream",
          "name": "stdout",
          "text": [
            "MSE is: 0.008961957721874083\n",
            "RMSE is: 0.09466761707085525\n",
            "MAE is: 0.06772486743370632\n",
            "R Squared is: 0.9436942053097153\n"
          ]
        }
      ]
    },
    {
      "cell_type": "code",
      "source": [
        "from sklearn.ensemble import RandomForestRegressor\n",
        "regressor = RandomForestRegressor(n_estimators = 100) ## n_estimators is the amount of trees. Each tree is an estimator\n",
        "regressor.fit(np.array(trainset_total), np.array(y))\n",
        "rdmfrst = regressor.predict(np.array(testset_total))"
      ],
      "metadata": {
        "id": "Fo2LK8VWqVpy"
      },
      "execution_count": null,
      "outputs": []
    },
    {
      "cell_type": "code",
      "source": [
        "GetErrors(y, rdmfrst)"
      ],
      "metadata": {
        "colab": {
          "base_uri": "https://localhost:8080/"
        },
        "id": "z4zMQrsw9V4P",
        "outputId": "82c0a4b3-6fcc-49ca-cc89-80b75591c390"
      },
      "execution_count": null,
      "outputs": [
        {
          "output_type": "stream",
          "name": "stdout",
          "text": [
            "MSE is: 0.002789710018061823\n",
            "RMSE is: 0.05281770553575593\n",
            "MAE is: 0.036166032931342525\n",
            "R Squared is: 0.9824729323215807\n"
          ]
        }
      ]
    },
    {
      "cell_type": "code",
      "source": [
        "plt.scatter(x=rdmfrst, y=y)\n",
        "plt.ylabel('Actual Value')\n",
        "plt.xlabel('Predicted Value')\n",
        "plt.show()"
      ],
      "metadata": {
        "colab": {
          "base_uri": "https://localhost:8080/",
          "height": 285
        },
        "id": "3pxLmf3nqCmJ",
        "outputId": "1594efbd-2130-4cbc-82f7-494188586e01"
      },
      "execution_count": null,
      "outputs": [
        {
          "output_type": "display_data",
          "data": {
            "image/png": "[encoded data removed]",
            "text/plain": [
              "<Figure size 432x288 with 1 Axes>"
            ]
          },
          "metadata": {}
        }
      ]
    },
    {
      "cell_type": "code",
      "source": [
        "ard_reg = linear_model.ARDRegression()\n",
        "ard_reg.fit(np.array(trainset_total), np.array(y))\n",
        "ard_pred = ard_reg.predict(np.array(testset_total))"
      ],
      "metadata": {
        "id": "PZgZAVc8-hbU"
      },
      "execution_count": null,
      "outputs": []
    },
    {
      "cell_type": "code",
      "source": [
        "GetErrors(y, ard_pred)"
      ],
      "metadata": {
        "colab": {
          "base_uri": "https://localhost:8080/"
        },
        "id": "dx72MsOSIXOj",
        "outputId": "8631b85b-2f7d-475b-bd6a-9d7330e4b43e"
      },
      "execution_count": null,
      "outputs": [
        {
          "output_type": "stream",
          "name": "stdout",
          "text": [
            "MSE is: 0.009977155152025916\n",
            "RMSE is: 0.09988571044962295\n",
            "MAE is: 0.07173101314203811\n",
            "R Squared is: 0.9373159674462721\n"
          ]
        }
      ]
    },
    {
      "cell_type": "code",
      "source": [
        "from sklearn.ensemble import StackingRegressor\n",
        "\n",
        "models = [('lr',LinearRegression()),('svr',SVR())]\n",
        "stacking = StackingRegressor(estimators=models)"
      ],
      "metadata": {
        "id": "eQNWSTfaIZUz"
      },
      "execution_count": null,
      "outputs": []
    },
    {
      "cell_type": "code",
      "source": [
        "stacking.fit(np.array(trainset_total), np.array(y))"
      ],
      "metadata": {
        "colab": {
          "base_uri": "https://localhost:8080/"
        },
        "id": "8wJzZYhMqvym",
        "outputId": "12aeb052-37e4-4421-8c68-dcc90140a87c"
      },
      "execution_count": null,
      "outputs": [
        {
          "output_type": "execute_result",
          "data": {
            "text/plain": [
              "StackingRegressor(estimators=[('lr', LinearRegression()), ('svr', SVR())])"
            ]
          },
          "metadata": {},
          "execution_count": 2626
        }
      ]
    },
    {
      "cell_type": "code",
      "source": [
        "stacked = stacking.predict(np.array(testset_total))"
      ],
      "metadata": {
        "id": "yMLmDXyarDmH"
      },
      "execution_count": null,
      "outputs": []
    },
    {
      "cell_type": "code",
      "source": [
        "GetErrors(y, stacked)"
      ],
      "metadata": {
        "colab": {
          "base_uri": "https://localhost:8080/"
        },
        "id": "9VgeVxQRrPKW",
        "outputId": "b8b6a432-f708-4198-d4b6-72a80b19637a"
      },
      "execution_count": null,
      "outputs": [
        {
          "output_type": "stream",
          "name": "stdout",
          "text": [
            "MSE is: 84860751.97652008\n",
            "RMSE is: 9211.98957752993\n",
            "MAE is: 9211.989577167094\n",
            "R Squared is: -533159407.5063289\n"
          ]
        }
      ]
    },
    {
      "cell_type": "code",
      "source": [
        "sub = pd.DataFrame()\n",
        "sub['Id'] = testset_nums['Id']\n",
        "sub['SalePrice'] = rdmfrst\n",
        "sub.to_csv(\"C:\\\\Users\\\\Tyler\\\\Documents\\\\GitHub\\\\housing_data\\\\submission.csv\", index=False)"
      ],
      "metadata": {
        "id": "CbfqEzdLraxn"
      },
      "execution_count": 2634,
      "outputs": []
    }
  ]
}