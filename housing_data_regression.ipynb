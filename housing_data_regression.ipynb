{
  "nbformat": 4,
  "nbformat_minor": 0,
  "metadata": {
    "colab": {
      "name": "housing_data_regression.ipynb",
      "provenance": [],
      "collapsed_sections": [
        "Wt13c8wsTg9o",
        "fFCysriSjE5W"
      ],
      "authorship_tag": "ABX9TyMBs1yN0yyaW9Dt6tAQY+8t",
      "include_colab_link": true
    },
    "kernelspec": {
      "name": "python3",
      "display_name": "Python 3"
    },
    "language_info": {
      "name": "python"
    }
  },
  "cells": [
    {
      "cell_type": "markdown",
      "metadata": {
        "id": "view-in-github",
        "colab_type": "text"
      },
      "source": [
        "<a href=\"https://colab.research.google.com/github/tyleryou/housing_data/blob/main/housing_data_regression.ipynb\" target=\"_parent\"><img src=\"https://colab.research.google.com/assets/colab-badge.svg\" alt=\"Open In Colab\"/></a>"
      ]
    },
    {
      "cell_type": "markdown",
      "source": [
        "**Predicting Housing Prices Using Regression Models**\n",
        "\n",
        "The following Python script is meant to simulate a data pipeline that begins with data ingestion, followed by transformation and then model building. This could be compared to an ELT pipeline, where the data is extracted, loaded and then transformed for analysis. \n",
        "\n",
        "The data set comes from the Kaggle academic competition at the following link:\n",
        " https://www.kaggle.com/c/house-prices-advanced-regression-techniques\n",
        "\n",
        " This data was chosen as a means to practice feature engineering & regression modeling. I take no ownership of the data. Anyone is free to use the code from this notebook as they see fit.\n",
        "\n",
        " If anyone would like to give feedback on the coding choices, methods or explanations I used at any point, please email me at tyler.you@protonmail.com. "
      ],
      "metadata": {
        "id": "mwciHvvgUi9u"
      }
    },
    {
      "cell_type": "markdown",
      "source": [
        "#  Data Ingestion"
      ],
      "metadata": {
        "id": "Wt13c8wsTg9o"
      }
    },
    {
      "cell_type": "code",
      "execution_count": 116,
      "metadata": {
        "id": "MgTde7LWTZ9r"
      },
      "outputs": [],
      "source": [
        "import sklearn\n",
        "import numpy as np                 # Linear Algebra Calculations\n",
        "import matplotlib.pyplot as plt    # Data Plotting\n",
        "import pandas as pd                # DataFrames\n",
        "pd.options.mode.chained_assignment = None  # default='warn', turn off warning errors when writing pandas dataframes over original dataframe.\n",
        "import seaborn as sns              # Data Visualization"
      ]
    },
    {
      "cell_type": "code",
      "source": [
        "## Importing the data from github repository.\n",
        "\n",
        "url = 'https://raw.githubusercontent.com/tyleryou/housing_data/main/train.csv'\n",
        "\n",
        "trainingset = pd.read_csv(url)\n",
        "\n",
        "url_test = 'https://raw.githubusercontent.com/tyleryou/housing_data/main/test.csv'\n",
        "\n",
        "testset = pd.read_csv(url_test)"
      ],
      "metadata": {
        "id": "IEYrTZELTq4d"
      },
      "execution_count": 117,
      "outputs": []
    },
    {
      "cell_type": "code",
      "source": [
        "## We see the median is pretty far from the mean, so that means the data is skewed. Since the mean is greater than the median, it's likely the target is skewed in the positive direction. MOVE THIS LOWER.\n",
        "\n",
        "trainingset['SalePrice'].describe()"
      ],
      "metadata": {
        "colab": {
          "base_uri": "https://localhost:8080/"
        },
        "id": "oNkxCyo8Tu97",
        "outputId": "4469c7b4-4733-47fa-9ade-5329f6c7a924"
      },
      "execution_count": 118,
      "outputs": [
        {
          "output_type": "execute_result",
          "data": {
            "text/plain": [
              "count      1460.000000\n",
              "mean     180921.195890\n",
              "std       79442.502883\n",
              "min       34900.000000\n",
              "25%      129975.000000\n",
              "50%      163000.000000\n",
              "75%      214000.000000\n",
              "max      755000.000000\n",
              "Name: SalePrice, dtype: float64"
            ]
          },
          "metadata": {},
          "execution_count": 118
        }
      ]
    },
    {
      "cell_type": "markdown",
      "source": [
        "First off is to look at the prediction target, 'SalePrice'. We see the median (50% quartile) is pretty far from the mean, so that means the data is skewed. Since the mean is greater than the median, it's likely the target is skewed in the positive direction."
      ],
      "metadata": {
        "id": "sVFIvwURTwcr"
      }
    },
    {
      "cell_type": "code",
      "source": [
        "## Investigating size of training set & test set\n",
        "\n",
        "print('Size of the training set is: {}'.format(trainingset.shape))\n",
        "print('Size of the test set is: {}'.format(testset.shape))"
      ],
      "metadata": {
        "colab": {
          "base_uri": "https://localhost:8080/"
        },
        "id": "F_Pa3wWjUAFx",
        "outputId": "afed0536-1a40-4645-de11-6033da6f19ba"
      },
      "execution_count": 119,
      "outputs": [
        {
          "output_type": "stream",
          "name": "stdout",
          "text": [
            "Size of the training set is: (1460, 81)\n",
            "Size of the test set is: (1459, 80)\n"
          ]
        }
      ]
    },
    {
      "cell_type": "markdown",
      "source": [
        "The training set and test set do not have an equal amount of rows, this will cause issues later down the line in feature engineering and model building."
      ],
      "metadata": {
        "id": "1xpiBpTRUKjt"
      }
    },
    {
      "cell_type": "code",
      "source": [
        "## Looking at the first five instances of all the features.\n",
        "trainingset.head()"
      ],
      "metadata": {
        "colab": {
          "base_uri": "https://localhost:8080/",
          "height": 0
        },
        "id": "xoRbFOGcUIA6",
        "outputId": "fd6e6f8b-0442-4862-8b0a-5681e6869ac5"
      },
      "execution_count": 120,
      "outputs": [
        {
          "output_type": "execute_result",
          "data": {
            "text/html": [
              "\n",
              "  <div id=\"df-512501ca-bd6d-4c23-9124-ca07acee4810\">\n",
              "    <div class=\"colab-df-container\">\n",
              "      <div>\n",
              "<style scoped>\n",
              "    .dataframe tbody tr th:only-of-type {\n",
              "        vertical-align: middle;\n",
              "    }\n",
              "\n",
              "    .dataframe tbody tr th {\n",
              "        vertical-align: top;\n",
              "    }\n",
              "\n",
              "    .dataframe thead th {\n",
              "        text-align: right;\n",
              "    }\n",
              "</style>\n",
              "<table border=\"1\" class=\"dataframe\">\n",
              "  <thead>\n",
              "    <tr style=\"text-align: right;\">\n",
              "      <th></th>\n",
              "      <th>Id</th>\n",
              "      <th>MSSubClass</th>\n",
              "      <th>MSZoning</th>\n",
              "      <th>LotFrontage</th>\n",
              "      <th>LotArea</th>\n",
              "      <th>Street</th>\n",
              "      <th>Alley</th>\n",
              "      <th>LotShape</th>\n",
              "      <th>LandContour</th>\n",
              "      <th>Utilities</th>\n",
              "      <th>LotConfig</th>\n",
              "      <th>LandSlope</th>\n",
              "      <th>Neighborhood</th>\n",
              "      <th>Condition1</th>\n",
              "      <th>Condition2</th>\n",
              "      <th>BldgType</th>\n",
              "      <th>HouseStyle</th>\n",
              "      <th>OverallQual</th>\n",
              "      <th>OverallCond</th>\n",
              "      <th>YearBuilt</th>\n",
              "      <th>YearRemodAdd</th>\n",
              "      <th>RoofStyle</th>\n",
              "      <th>RoofMatl</th>\n",
              "      <th>Exterior1st</th>\n",
              "      <th>Exterior2nd</th>\n",
              "      <th>MasVnrType</th>\n",
              "      <th>MasVnrArea</th>\n",
              "      <th>ExterQual</th>\n",
              "      <th>ExterCond</th>\n",
              "      <th>Foundation</th>\n",
              "      <th>BsmtQual</th>\n",
              "      <th>BsmtCond</th>\n",
              "      <th>BsmtExposure</th>\n",
              "      <th>BsmtFinType1</th>\n",
              "      <th>BsmtFinSF1</th>\n",
              "      <th>BsmtFinType2</th>\n",
              "      <th>BsmtFinSF2</th>\n",
              "      <th>BsmtUnfSF</th>\n",
              "      <th>TotalBsmtSF</th>\n",
              "      <th>Heating</th>\n",
              "      <th>...</th>\n",
              "      <th>CentralAir</th>\n",
              "      <th>Electrical</th>\n",
              "      <th>1stFlrSF</th>\n",
              "      <th>2ndFlrSF</th>\n",
              "      <th>LowQualFinSF</th>\n",
              "      <th>GrLivArea</th>\n",
              "      <th>BsmtFullBath</th>\n",
              "      <th>BsmtHalfBath</th>\n",
              "      <th>FullBath</th>\n",
              "      <th>HalfBath</th>\n",
              "      <th>BedroomAbvGr</th>\n",
              "      <th>KitchenAbvGr</th>\n",
              "      <th>KitchenQual</th>\n",
              "      <th>TotRmsAbvGrd</th>\n",
              "      <th>Functional</th>\n",
              "      <th>Fireplaces</th>\n",
              "      <th>FireplaceQu</th>\n",
              "      <th>GarageType</th>\n",
              "      <th>GarageYrBlt</th>\n",
              "      <th>GarageFinish</th>\n",
              "      <th>GarageCars</th>\n",
              "      <th>GarageArea</th>\n",
              "      <th>GarageQual</th>\n",
              "      <th>GarageCond</th>\n",
              "      <th>PavedDrive</th>\n",
              "      <th>WoodDeckSF</th>\n",
              "      <th>OpenPorchSF</th>\n",
              "      <th>EnclosedPorch</th>\n",
              "      <th>3SsnPorch</th>\n",
              "      <th>ScreenPorch</th>\n",
              "      <th>PoolArea</th>\n",
              "      <th>PoolQC</th>\n",
              "      <th>Fence</th>\n",
              "      <th>MiscFeature</th>\n",
              "      <th>MiscVal</th>\n",
              "      <th>MoSold</th>\n",
              "      <th>YrSold</th>\n",
              "      <th>SaleType</th>\n",
              "      <th>SaleCondition</th>\n",
              "      <th>SalePrice</th>\n",
              "    </tr>\n",
              "  </thead>\n",
              "  <tbody>\n",
              "    <tr>\n",
              "      <th>0</th>\n",
              "      <td>1</td>\n",
              "      <td>60</td>\n",
              "      <td>RL</td>\n",
              "      <td>65.0</td>\n",
              "      <td>8450</td>\n",
              "      <td>Pave</td>\n",
              "      <td>NaN</td>\n",
              "      <td>Reg</td>\n",
              "      <td>Lvl</td>\n",
              "      <td>AllPub</td>\n",
              "      <td>Inside</td>\n",
              "      <td>Gtl</td>\n",
              "      <td>CollgCr</td>\n",
              "      <td>Norm</td>\n",
              "      <td>Norm</td>\n",
              "      <td>1Fam</td>\n",
              "      <td>2Story</td>\n",
              "      <td>7</td>\n",
              "      <td>5</td>\n",
              "      <td>2003</td>\n",
              "      <td>2003</td>\n",
              "      <td>Gable</td>\n",
              "      <td>CompShg</td>\n",
              "      <td>VinylSd</td>\n",
              "      <td>VinylSd</td>\n",
              "      <td>BrkFace</td>\n",
              "      <td>196.0</td>\n",
              "      <td>Gd</td>\n",
              "      <td>TA</td>\n",
              "      <td>PConc</td>\n",
              "      <td>Gd</td>\n",
              "      <td>TA</td>\n",
              "      <td>No</td>\n",
              "      <td>GLQ</td>\n",
              "      <td>706</td>\n",
              "      <td>Unf</td>\n",
              "      <td>0</td>\n",
              "      <td>150</td>\n",
              "      <td>856</td>\n",
              "      <td>GasA</td>\n",
              "      <td>...</td>\n",
              "      <td>Y</td>\n",
              "      <td>SBrkr</td>\n",
              "      <td>856</td>\n",
              "      <td>854</td>\n",
              "      <td>0</td>\n",
              "      <td>1710</td>\n",
              "      <td>1</td>\n",
              "      <td>0</td>\n",
              "      <td>2</td>\n",
              "      <td>1</td>\n",
              "      <td>3</td>\n",
              "      <td>1</td>\n",
              "      <td>Gd</td>\n",
              "      <td>8</td>\n",
              "      <td>Typ</td>\n",
              "      <td>0</td>\n",
              "      <td>NaN</td>\n",
              "      <td>Attchd</td>\n",
              "      <td>2003.0</td>\n",
              "      <td>RFn</td>\n",
              "      <td>2</td>\n",
              "      <td>548</td>\n",
              "      <td>TA</td>\n",
              "      <td>TA</td>\n",
              "      <td>Y</td>\n",
              "      <td>0</td>\n",
              "      <td>61</td>\n",
              "      <td>0</td>\n",
              "      <td>0</td>\n",
              "      <td>0</td>\n",
              "      <td>0</td>\n",
              "      <td>NaN</td>\n",
              "      <td>NaN</td>\n",
              "      <td>NaN</td>\n",
              "      <td>0</td>\n",
              "      <td>2</td>\n",
              "      <td>2008</td>\n",
              "      <td>WD</td>\n",
              "      <td>Normal</td>\n",
              "      <td>208500</td>\n",
              "    </tr>\n",
              "    <tr>\n",
              "      <th>1</th>\n",
              "      <td>2</td>\n",
              "      <td>20</td>\n",
              "      <td>RL</td>\n",
              "      <td>80.0</td>\n",
              "      <td>9600</td>\n",
              "      <td>Pave</td>\n",
              "      <td>NaN</td>\n",
              "      <td>Reg</td>\n",
              "      <td>Lvl</td>\n",
              "      <td>AllPub</td>\n",
              "      <td>FR2</td>\n",
              "      <td>Gtl</td>\n",
              "      <td>Veenker</td>\n",
              "      <td>Feedr</td>\n",
              "      <td>Norm</td>\n",
              "      <td>1Fam</td>\n",
              "      <td>1Story</td>\n",
              "      <td>6</td>\n",
              "      <td>8</td>\n",
              "      <td>1976</td>\n",
              "      <td>1976</td>\n",
              "      <td>Gable</td>\n",
              "      <td>CompShg</td>\n",
              "      <td>MetalSd</td>\n",
              "      <td>MetalSd</td>\n",
              "      <td>None</td>\n",
              "      <td>0.0</td>\n",
              "      <td>TA</td>\n",
              "      <td>TA</td>\n",
              "      <td>CBlock</td>\n",
              "      <td>Gd</td>\n",
              "      <td>TA</td>\n",
              "      <td>Gd</td>\n",
              "      <td>ALQ</td>\n",
              "      <td>978</td>\n",
              "      <td>Unf</td>\n",
              "      <td>0</td>\n",
              "      <td>284</td>\n",
              "      <td>1262</td>\n",
              "      <td>GasA</td>\n",
              "      <td>...</td>\n",
              "      <td>Y</td>\n",
              "      <td>SBrkr</td>\n",
              "      <td>1262</td>\n",
              "      <td>0</td>\n",
              "      <td>0</td>\n",
              "      <td>1262</td>\n",
              "      <td>0</td>\n",
              "      <td>1</td>\n",
              "      <td>2</td>\n",
              "      <td>0</td>\n",
              "      <td>3</td>\n",
              "      <td>1</td>\n",
              "      <td>TA</td>\n",
              "      <td>6</td>\n",
              "      <td>Typ</td>\n",
              "      <td>1</td>\n",
              "      <td>TA</td>\n",
              "      <td>Attchd</td>\n",
              "      <td>1976.0</td>\n",
              "      <td>RFn</td>\n",
              "      <td>2</td>\n",
              "      <td>460</td>\n",
              "      <td>TA</td>\n",
              "      <td>TA</td>\n",
              "      <td>Y</td>\n",
              "      <td>298</td>\n",
              "      <td>0</td>\n",
              "      <td>0</td>\n",
              "      <td>0</td>\n",
              "      <td>0</td>\n",
              "      <td>0</td>\n",
              "      <td>NaN</td>\n",
              "      <td>NaN</td>\n",
              "      <td>NaN</td>\n",
              "      <td>0</td>\n",
              "      <td>5</td>\n",
              "      <td>2007</td>\n",
              "      <td>WD</td>\n",
              "      <td>Normal</td>\n",
              "      <td>181500</td>\n",
              "    </tr>\n",
              "    <tr>\n",
              "      <th>2</th>\n",
              "      <td>3</td>\n",
              "      <td>60</td>\n",
              "      <td>RL</td>\n",
              "      <td>68.0</td>\n",
              "      <td>11250</td>\n",
              "      <td>Pave</td>\n",
              "      <td>NaN</td>\n",
              "      <td>IR1</td>\n",
              "      <td>Lvl</td>\n",
              "      <td>AllPub</td>\n",
              "      <td>Inside</td>\n",
              "      <td>Gtl</td>\n",
              "      <td>CollgCr</td>\n",
              "      <td>Norm</td>\n",
              "      <td>Norm</td>\n",
              "      <td>1Fam</td>\n",
              "      <td>2Story</td>\n",
              "      <td>7</td>\n",
              "      <td>5</td>\n",
              "      <td>2001</td>\n",
              "      <td>2002</td>\n",
              "      <td>Gable</td>\n",
              "      <td>CompShg</td>\n",
              "      <td>VinylSd</td>\n",
              "      <td>VinylSd</td>\n",
              "      <td>BrkFace</td>\n",
              "      <td>162.0</td>\n",
              "      <td>Gd</td>\n",
              "      <td>TA</td>\n",
              "      <td>PConc</td>\n",
              "      <td>Gd</td>\n",
              "      <td>TA</td>\n",
              "      <td>Mn</td>\n",
              "      <td>GLQ</td>\n",
              "      <td>486</td>\n",
              "      <td>Unf</td>\n",
              "      <td>0</td>\n",
              "      <td>434</td>\n",
              "      <td>920</td>\n",
              "      <td>GasA</td>\n",
              "      <td>...</td>\n",
              "      <td>Y</td>\n",
              "      <td>SBrkr</td>\n",
              "      <td>920</td>\n",
              "      <td>866</td>\n",
              "      <td>0</td>\n",
              "      <td>1786</td>\n",
              "      <td>1</td>\n",
              "      <td>0</td>\n",
              "      <td>2</td>\n",
              "      <td>1</td>\n",
              "      <td>3</td>\n",
              "      <td>1</td>\n",
              "      <td>Gd</td>\n",
              "      <td>6</td>\n",
              "      <td>Typ</td>\n",
              "      <td>1</td>\n",
              "      <td>TA</td>\n",
              "      <td>Attchd</td>\n",
              "      <td>2001.0</td>\n",
              "      <td>RFn</td>\n",
              "      <td>2</td>\n",
              "      <td>608</td>\n",
              "      <td>TA</td>\n",
              "      <td>TA</td>\n",
              "      <td>Y</td>\n",
              "      <td>0</td>\n",
              "      <td>42</td>\n",
              "      <td>0</td>\n",
              "      <td>0</td>\n",
              "      <td>0</td>\n",
              "      <td>0</td>\n",
              "      <td>NaN</td>\n",
              "      <td>NaN</td>\n",
              "      <td>NaN</td>\n",
              "      <td>0</td>\n",
              "      <td>9</td>\n",
              "      <td>2008</td>\n",
              "      <td>WD</td>\n",
              "      <td>Normal</td>\n",
              "      <td>223500</td>\n",
              "    </tr>\n",
              "    <tr>\n",
              "      <th>3</th>\n",
              "      <td>4</td>\n",
              "      <td>70</td>\n",
              "      <td>RL</td>\n",
              "      <td>60.0</td>\n",
              "      <td>9550</td>\n",
              "      <td>Pave</td>\n",
              "      <td>NaN</td>\n",
              "      <td>IR1</td>\n",
              "      <td>Lvl</td>\n",
              "      <td>AllPub</td>\n",
              "      <td>Corner</td>\n",
              "      <td>Gtl</td>\n",
              "      <td>Crawfor</td>\n",
              "      <td>Norm</td>\n",
              "      <td>Norm</td>\n",
              "      <td>1Fam</td>\n",
              "      <td>2Story</td>\n",
              "      <td>7</td>\n",
              "      <td>5</td>\n",
              "      <td>1915</td>\n",
              "      <td>1970</td>\n",
              "      <td>Gable</td>\n",
              "      <td>CompShg</td>\n",
              "      <td>Wd Sdng</td>\n",
              "      <td>Wd Shng</td>\n",
              "      <td>None</td>\n",
              "      <td>0.0</td>\n",
              "      <td>TA</td>\n",
              "      <td>TA</td>\n",
              "      <td>BrkTil</td>\n",
              "      <td>TA</td>\n",
              "      <td>Gd</td>\n",
              "      <td>No</td>\n",
              "      <td>ALQ</td>\n",
              "      <td>216</td>\n",
              "      <td>Unf</td>\n",
              "      <td>0</td>\n",
              "      <td>540</td>\n",
              "      <td>756</td>\n",
              "      <td>GasA</td>\n",
              "      <td>...</td>\n",
              "      <td>Y</td>\n",
              "      <td>SBrkr</td>\n",
              "      <td>961</td>\n",
              "      <td>756</td>\n",
              "      <td>0</td>\n",
              "      <td>1717</td>\n",
              "      <td>1</td>\n",
              "      <td>0</td>\n",
              "      <td>1</td>\n",
              "      <td>0</td>\n",
              "      <td>3</td>\n",
              "      <td>1</td>\n",
              "      <td>Gd</td>\n",
              "      <td>7</td>\n",
              "      <td>Typ</td>\n",
              "      <td>1</td>\n",
              "      <td>Gd</td>\n",
              "      <td>Detchd</td>\n",
              "      <td>1998.0</td>\n",
              "      <td>Unf</td>\n",
              "      <td>3</td>\n",
              "      <td>642</td>\n",
              "      <td>TA</td>\n",
              "      <td>TA</td>\n",
              "      <td>Y</td>\n",
              "      <td>0</td>\n",
              "      <td>35</td>\n",
              "      <td>272</td>\n",
              "      <td>0</td>\n",
              "      <td>0</td>\n",
              "      <td>0</td>\n",
              "      <td>NaN</td>\n",
              "      <td>NaN</td>\n",
              "      <td>NaN</td>\n",
              "      <td>0</td>\n",
              "      <td>2</td>\n",
              "      <td>2006</td>\n",
              "      <td>WD</td>\n",
              "      <td>Abnorml</td>\n",
              "      <td>140000</td>\n",
              "    </tr>\n",
              "    <tr>\n",
              "      <th>4</th>\n",
              "      <td>5</td>\n",
              "      <td>60</td>\n",
              "      <td>RL</td>\n",
              "      <td>84.0</td>\n",
              "      <td>14260</td>\n",
              "      <td>Pave</td>\n",
              "      <td>NaN</td>\n",
              "      <td>IR1</td>\n",
              "      <td>Lvl</td>\n",
              "      <td>AllPub</td>\n",
              "      <td>FR2</td>\n",
              "      <td>Gtl</td>\n",
              "      <td>NoRidge</td>\n",
              "      <td>Norm</td>\n",
              "      <td>Norm</td>\n",
              "      <td>1Fam</td>\n",
              "      <td>2Story</td>\n",
              "      <td>8</td>\n",
              "      <td>5</td>\n",
              "      <td>2000</td>\n",
              "      <td>2000</td>\n",
              "      <td>Gable</td>\n",
              "      <td>CompShg</td>\n",
              "      <td>VinylSd</td>\n",
              "      <td>VinylSd</td>\n",
              "      <td>BrkFace</td>\n",
              "      <td>350.0</td>\n",
              "      <td>Gd</td>\n",
              "      <td>TA</td>\n",
              "      <td>PConc</td>\n",
              "      <td>Gd</td>\n",
              "      <td>TA</td>\n",
              "      <td>Av</td>\n",
              "      <td>GLQ</td>\n",
              "      <td>655</td>\n",
              "      <td>Unf</td>\n",
              "      <td>0</td>\n",
              "      <td>490</td>\n",
              "      <td>1145</td>\n",
              "      <td>GasA</td>\n",
              "      <td>...</td>\n",
              "      <td>Y</td>\n",
              "      <td>SBrkr</td>\n",
              "      <td>1145</td>\n",
              "      <td>1053</td>\n",
              "      <td>0</td>\n",
              "      <td>2198</td>\n",
              "      <td>1</td>\n",
              "      <td>0</td>\n",
              "      <td>2</td>\n",
              "      <td>1</td>\n",
              "      <td>4</td>\n",
              "      <td>1</td>\n",
              "      <td>Gd</td>\n",
              "      <td>9</td>\n",
              "      <td>Typ</td>\n",
              "      <td>1</td>\n",
              "      <td>TA</td>\n",
              "      <td>Attchd</td>\n",
              "      <td>2000.0</td>\n",
              "      <td>RFn</td>\n",
              "      <td>3</td>\n",
              "      <td>836</td>\n",
              "      <td>TA</td>\n",
              "      <td>TA</td>\n",
              "      <td>Y</td>\n",
              "      <td>192</td>\n",
              "      <td>84</td>\n",
              "      <td>0</td>\n",
              "      <td>0</td>\n",
              "      <td>0</td>\n",
              "      <td>0</td>\n",
              "      <td>NaN</td>\n",
              "      <td>NaN</td>\n",
              "      <td>NaN</td>\n",
              "      <td>0</td>\n",
              "      <td>12</td>\n",
              "      <td>2008</td>\n",
              "      <td>WD</td>\n",
              "      <td>Normal</td>\n",
              "      <td>250000</td>\n",
              "    </tr>\n",
              "  </tbody>\n",
              "</table>\n",
              "<p>5 rows × 81 columns</p>\n",
              "</div>\n",
              "      <button class=\"colab-df-convert\" onclick=\"convertToInteractive('df-512501ca-bd6d-4c23-9124-ca07acee4810')\"\n",
              "              title=\"Convert this dataframe to an interactive table.\"\n",
              "              style=\"display:none;\">\n",
              "        \n",
              "  <svg xmlns=\"http://www.w3.org/2000/svg\" height=\"24px\"viewBox=\"0 0 24 24\"\n",
              "       width=\"24px\">\n",
              "    <path d=\"M0 0h24v24H0V0z\" fill=\"none\"/>\n",
              "    <path d=\"M18.56 5.44l.94 2.06.94-2.06 2.06-.94-2.06-.94-.94-2.06-.94 2.06-2.06.94zm-11 1L8.5 8.5l.94-2.06 2.06-.94-2.06-.94L8.5 2.5l-.94 2.06-2.06.94zm10 10l.94 2.06.94-2.06 2.06-.94-2.06-.94-.94-2.06-.94 2.06-2.06.94z\"/><path d=\"M17.41 7.96l-1.37-1.37c-.4-.4-.92-.59-1.43-.59-.52 0-1.04.2-1.43.59L10.3 9.45l-7.72 7.72c-.78.78-.78 2.05 0 2.83L4 21.41c.39.39.9.59 1.41.59.51 0 1.02-.2 1.41-.59l7.78-7.78 2.81-2.81c.8-.78.8-2.07 0-2.86zM5.41 20L4 18.59l7.72-7.72 1.47 1.35L5.41 20z\"/>\n",
              "  </svg>\n",
              "      </button>\n",
              "      \n",
              "  <style>\n",
              "    .colab-df-container {\n",
              "      display:flex;\n",
              "      flex-wrap:wrap;\n",
              "      gap: 12px;\n",
              "    }\n",
              "\n",
              "    .colab-df-convert {\n",
              "      background-color: #E8F0FE;\n",
              "      border: none;\n",
              "      border-radius: 50%;\n",
              "      cursor: pointer;\n",
              "      display: none;\n",
              "      fill: #1967D2;\n",
              "      height: 32px;\n",
              "      padding: 0 0 0 0;\n",
              "      width: 32px;\n",
              "    }\n",
              "\n",
              "    .colab-df-convert:hover {\n",
              "      background-color: #E2EBFA;\n",
              "      box-shadow: 0px 1px 2px rgba(60, 64, 67, 0.3), 0px 1px 3px 1px rgba(60, 64, 67, 0.15);\n",
              "      fill: #174EA6;\n",
              "    }\n",
              "\n",
              "    [theme=dark] .colab-df-convert {\n",
              "      background-color: #3B4455;\n",
              "      fill: #D2E3FC;\n",
              "    }\n",
              "\n",
              "    [theme=dark] .colab-df-convert:hover {\n",
              "      background-color: #434B5C;\n",
              "      box-shadow: 0px 1px 3px 1px rgba(0, 0, 0, 0.15);\n",
              "      filter: drop-shadow(0px 1px 2px rgba(0, 0, 0, 0.3));\n",
              "      fill: #FFFFFF;\n",
              "    }\n",
              "  </style>\n",
              "\n",
              "      <script>\n",
              "        const buttonEl =\n",
              "          document.querySelector('#df-512501ca-bd6d-4c23-9124-ca07acee4810 button.colab-df-convert');\n",
              "        buttonEl.style.display =\n",
              "          google.colab.kernel.accessAllowed ? 'block' : 'none';\n",
              "\n",
              "        async function convertToInteractive(key) {\n",
              "          const element = document.querySelector('#df-512501ca-bd6d-4c23-9124-ca07acee4810');\n",
              "          const dataTable =\n",
              "            await google.colab.kernel.invokeFunction('convertToInteractive',\n",
              "                                                     [key], {});\n",
              "          if (!dataTable) return;\n",
              "\n",
              "          const docLinkHtml = 'Like what you see? Visit the ' +\n",
              "            '<a target=\"_blank\" href=https://colab.research.google.com/notebooks/data_table.ipynb>data table notebook</a>'\n",
              "            + ' to learn more about interactive tables.';\n",
              "          element.innerHTML = '';\n",
              "          dataTable['output_type'] = 'display_data';\n",
              "          await google.colab.output.renderOutput(dataTable, element);\n",
              "          const docLink = document.createElement('div');\n",
              "          docLink.innerHTML = docLinkHtml;\n",
              "          element.appendChild(docLink);\n",
              "        }\n",
              "      </script>\n",
              "    </div>\n",
              "  </div>\n",
              "  "
            ],
            "text/plain": [
              "   Id  MSSubClass MSZoning  ...  SaleType  SaleCondition SalePrice\n",
              "0   1          60       RL  ...        WD         Normal    208500\n",
              "1   2          20       RL  ...        WD         Normal    181500\n",
              "2   3          60       RL  ...        WD         Normal    223500\n",
              "3   4          70       RL  ...        WD        Abnorml    140000\n",
              "4   5          60       RL  ...        WD         Normal    250000\n",
              "\n",
              "[5 rows x 81 columns]"
            ]
          },
          "metadata": {},
          "execution_count": 120
        }
      ]
    },
    {
      "cell_type": "markdown",
      "source": [
        "The first five instances of all the features, including the target SalePrice. We can see some features already have NaN values (missing data). We should take a closer look at that."
      ],
      "metadata": {
        "id": "ef6gjkv2UU2E"
      }
    },
    {
      "cell_type": "code",
      "source": [
        "## Showing missing data and datatypes.\n",
        "trainingset.info() "
      ],
      "metadata": {
        "colab": {
          "base_uri": "https://localhost:8080/"
        },
        "id": "QD-mXO7HUSkN",
        "outputId": "99c30e19-cd9f-47da-c9c6-8220878c4d7b"
      },
      "execution_count": 121,
      "outputs": [
        {
          "output_type": "stream",
          "name": "stdout",
          "text": [
            "<class 'pandas.core.frame.DataFrame'>\n",
            "RangeIndex: 1460 entries, 0 to 1459\n",
            "Data columns (total 81 columns):\n",
            " #   Column         Non-Null Count  Dtype  \n",
            "---  ------         --------------  -----  \n",
            " 0   Id             1460 non-null   int64  \n",
            " 1   MSSubClass     1460 non-null   int64  \n",
            " 2   MSZoning       1460 non-null   object \n",
            " 3   LotFrontage    1201 non-null   float64\n",
            " 4   LotArea        1460 non-null   int64  \n",
            " 5   Street         1460 non-null   object \n",
            " 6   Alley          91 non-null     object \n",
            " 7   LotShape       1460 non-null   object \n",
            " 8   LandContour    1460 non-null   object \n",
            " 9   Utilities      1460 non-null   object \n",
            " 10  LotConfig      1460 non-null   object \n",
            " 11  LandSlope      1460 non-null   object \n",
            " 12  Neighborhood   1460 non-null   object \n",
            " 13  Condition1     1460 non-null   object \n",
            " 14  Condition2     1460 non-null   object \n",
            " 15  BldgType       1460 non-null   object \n",
            " 16  HouseStyle     1460 non-null   object \n",
            " 17  OverallQual    1460 non-null   int64  \n",
            " 18  OverallCond    1460 non-null   int64  \n",
            " 19  YearBuilt      1460 non-null   int64  \n",
            " 20  YearRemodAdd   1460 non-null   int64  \n",
            " 21  RoofStyle      1460 non-null   object \n",
            " 22  RoofMatl       1460 non-null   object \n",
            " 23  Exterior1st    1460 non-null   object \n",
            " 24  Exterior2nd    1460 non-null   object \n",
            " 25  MasVnrType     1452 non-null   object \n",
            " 26  MasVnrArea     1452 non-null   float64\n",
            " 27  ExterQual      1460 non-null   object \n",
            " 28  ExterCond      1460 non-null   object \n",
            " 29  Foundation     1460 non-null   object \n",
            " 30  BsmtQual       1423 non-null   object \n",
            " 31  BsmtCond       1423 non-null   object \n",
            " 32  BsmtExposure   1422 non-null   object \n",
            " 33  BsmtFinType1   1423 non-null   object \n",
            " 34  BsmtFinSF1     1460 non-null   int64  \n",
            " 35  BsmtFinType2   1422 non-null   object \n",
            " 36  BsmtFinSF2     1460 non-null   int64  \n",
            " 37  BsmtUnfSF      1460 non-null   int64  \n",
            " 38  TotalBsmtSF    1460 non-null   int64  \n",
            " 39  Heating        1460 non-null   object \n",
            " 40  HeatingQC      1460 non-null   object \n",
            " 41  CentralAir     1460 non-null   object \n",
            " 42  Electrical     1459 non-null   object \n",
            " 43  1stFlrSF       1460 non-null   int64  \n",
            " 44  2ndFlrSF       1460 non-null   int64  \n",
            " 45  LowQualFinSF   1460 non-null   int64  \n",
            " 46  GrLivArea      1460 non-null   int64  \n",
            " 47  BsmtFullBath   1460 non-null   int64  \n",
            " 48  BsmtHalfBath   1460 non-null   int64  \n",
            " 49  FullBath       1460 non-null   int64  \n",
            " 50  HalfBath       1460 non-null   int64  \n",
            " 51  BedroomAbvGr   1460 non-null   int64  \n",
            " 52  KitchenAbvGr   1460 non-null   int64  \n",
            " 53  KitchenQual    1460 non-null   object \n",
            " 54  TotRmsAbvGrd   1460 non-null   int64  \n",
            " 55  Functional     1460 non-null   object \n",
            " 56  Fireplaces     1460 non-null   int64  \n",
            " 57  FireplaceQu    770 non-null    object \n",
            " 58  GarageType     1379 non-null   object \n",
            " 59  GarageYrBlt    1379 non-null   float64\n",
            " 60  GarageFinish   1379 non-null   object \n",
            " 61  GarageCars     1460 non-null   int64  \n",
            " 62  GarageArea     1460 non-null   int64  \n",
            " 63  GarageQual     1379 non-null   object \n",
            " 64  GarageCond     1379 non-null   object \n",
            " 65  PavedDrive     1460 non-null   object \n",
            " 66  WoodDeckSF     1460 non-null   int64  \n",
            " 67  OpenPorchSF    1460 non-null   int64  \n",
            " 68  EnclosedPorch  1460 non-null   int64  \n",
            " 69  3SsnPorch      1460 non-null   int64  \n",
            " 70  ScreenPorch    1460 non-null   int64  \n",
            " 71  PoolArea       1460 non-null   int64  \n",
            " 72  PoolQC         7 non-null      object \n",
            " 73  Fence          281 non-null    object \n",
            " 74  MiscFeature    54 non-null     object \n",
            " 75  MiscVal        1460 non-null   int64  \n",
            " 76  MoSold         1460 non-null   int64  \n",
            " 77  YrSold         1460 non-null   int64  \n",
            " 78  SaleType       1460 non-null   object \n",
            " 79  SaleCondition  1460 non-null   object \n",
            " 80  SalePrice      1460 non-null   int64  \n",
            "dtypes: float64(3), int64(35), object(43)\n",
            "memory usage: 924.0+ KB\n"
          ]
        }
      ]
    },
    {
      "cell_type": "markdown",
      "source": [
        "Here we can see that the Alley, FireplaceQu, PoolQC, Fence, and MiscFeature features are all missing a substantial amount of instances. It may be acceptable to simply toss these features out instead of trying to fill the missing values. More investigation into the missing values is important, and will be done later."
      ],
      "metadata": {
        "id": "J88AcdqtU3YI"
      }
    },
    {
      "cell_type": "code",
      "source": [
        "# Establishing correlation matrix for numerical features.\n",
        "\n",
        "correlation_matrix = trainingset.corr()\n",
        "correlation_matrix['SalePrice'].sort_values(ascending=False)"
      ],
      "metadata": {
        "colab": {
          "base_uri": "https://localhost:8080/"
        },
        "id": "nIXJOHtGUgHb",
        "outputId": "26ed5225-0e3e-4249-9e7e-acec83ff3a74"
      },
      "execution_count": 122,
      "outputs": [
        {
          "output_type": "execute_result",
          "data": {
            "text/plain": [
              "SalePrice        1.000000\n",
              "OverallQual      0.790982\n",
              "GrLivArea        0.708624\n",
              "GarageCars       0.640409\n",
              "GarageArea       0.623431\n",
              "TotalBsmtSF      0.613581\n",
              "1stFlrSF         0.605852\n",
              "FullBath         0.560664\n",
              "TotRmsAbvGrd     0.533723\n",
              "YearBuilt        0.522897\n",
              "YearRemodAdd     0.507101\n",
              "GarageYrBlt      0.486362\n",
              "MasVnrArea       0.477493\n",
              "Fireplaces       0.466929\n",
              "BsmtFinSF1       0.386420\n",
              "LotFrontage      0.351799\n",
              "WoodDeckSF       0.324413\n",
              "2ndFlrSF         0.319334\n",
              "OpenPorchSF      0.315856\n",
              "HalfBath         0.284108\n",
              "LotArea          0.263843\n",
              "BsmtFullBath     0.227122\n",
              "BsmtUnfSF        0.214479\n",
              "BedroomAbvGr     0.168213\n",
              "ScreenPorch      0.111447\n",
              "PoolArea         0.092404\n",
              "MoSold           0.046432\n",
              "3SsnPorch        0.044584\n",
              "BsmtFinSF2      -0.011378\n",
              "BsmtHalfBath    -0.016844\n",
              "MiscVal         -0.021190\n",
              "Id              -0.021917\n",
              "LowQualFinSF    -0.025606\n",
              "YrSold          -0.028923\n",
              "OverallCond     -0.077856\n",
              "MSSubClass      -0.084284\n",
              "EnclosedPorch   -0.128578\n",
              "KitchenAbvGr    -0.135907\n",
              "Name: SalePrice, dtype: float64"
            ]
          },
          "metadata": {},
          "execution_count": 122
        }
      ]
    },
    {
      "cell_type": "markdown",
      "source": [
        "Above is the correlation matrix represented as percentages. Correlation expresses how two features (in this case each feature against the target) are linearly related. For example, OverallQual has a correlation of 79 percent. The equation for Pearson's Correlation between two data sets (in this case x is the feature, and y is the target) is below. Where x-bar and y-bar are the means of the feature and target, respectively. Observing correlation between the features and the target is important because we can get an idea if a feature will hold bearing in the target prediction. In the case of linear correlation, it is particularly important with respect to linear regression.\n",
        "\n",
        "![image.png](data:image/png;base64,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)\n"
      ],
      "metadata": {
        "id": "KUhP7wzgVBRs"
      }
    },
    {
      "cell_type": "code",
      "source": [
        "## Establishing a heatmap using the above correlation matrix.\n",
        "\n",
        "f, ax = plt.subplots(figsize=(12, 9))\n",
        "sns.heatmap(correlation_matrix, cmap='YlGnBu', vmax=.8, square=True);"
      ],
      "metadata": {
        "colab": {
          "base_uri": "https://localhost:8080/",
          "height": 0
        },
        "id": "zjqx5SzHVBxq",
        "outputId": "bd9cdc49-889a-4c63-f9cc-799c7449ec8d"
      },
      "execution_count": 123,
      "outputs": [
        {
          "output_type": "display_data",
          "data": {
            "image/png": "[encoded data removed]",
            "text/plain": [
              "<Figure size 864x648 with 2 Axes>"
            ]
          },
          "metadata": {}
        }
      ]
    },
    {
      "cell_type": "markdown",
      "source": [
        "A heatmap shows not just how the features correlate with the target, but with each other as well. This will help show if multicollinearity exists between the features. Multicollinearity is undesirable because it could throw off the weights of the features (the coefficients) in linear predictions. It also could show feature redundancy, such as the same feature expressed in different units (inches vs feet). \n",
        "\n",
        "It is important to consider what the features themselves represent. For example, OverallCond is the overall condition of the house, which is essentially the same as OverallQual - the overall quality of the house. OverallQual has a high correlation to the target, so that could mean that OverallCond is a redundant feature."
      ],
      "metadata": {
        "id": "Z-fhu65DWbUa"
      }
    },
    {
      "cell_type": "code",
      "source": [
        "## \"Zoomed-in\" correlation matrix for most heavily correlated features to target.\n",
        "k = 10 #number of variables for heatmap\n",
        "columns = correlation_matrix.nlargest(k, 'SalePrice')['SalePrice'].index\n",
        "cm = np.corrcoef(trainingset[columns].values.T)\n",
        "sns.set(font_scale=1.5)\n",
        "hm = sns.heatmap(cm, cbar=True, annot=True, square=True, cmap='YlGnBu', fmt='.2f', annot_kws={'size': 10}, yticklabels=columns.values, xticklabels=columns.values)\n",
        "plt.show()"
      ],
      "metadata": {
        "colab": {
          "base_uri": "https://localhost:8080/",
          "height": 0
        },
        "id": "65zUmoyjWZx4",
        "outputId": "fe89f891-8592-4b34-aa28-8802eea01cf7"
      },
      "execution_count": 124,
      "outputs": [
        {
          "output_type": "display_data",
          "data": {
            "image/png": "[encoded data removed]",
            "text/plain": [
              "<Figure size 432x288 with 2 Axes>"
            ]
          },
          "metadata": {}
        }
      ]
    },
    {
      "cell_type": "markdown",
      "source": [
        "After looking at the following \"zoomed-in\" correlation heatmap, we can see 1stFlrSF is decently correlated with the target. 1stFlrSF, 2ndFlrSF and TotalBsmtSF can be combined into a TotalSqFt feature that could have better correlation to the target."
      ],
      "metadata": {
        "id": "h_gWbz8BgCPK"
      }
    },
    {
      "cell_type": "code",
      "source": [
        "## Creating a new feature (column) by combining the 1stFlrSF, 2ndFlrSF and TotalBsmtSF features.\n",
        "\n",
        "trainingset['TotalSqFt'] = trainingset['1stFlrSF']+trainingset['2ndFlrSF']\n",
        "testset['TotalSqFt'] = testset['1stFlrSF']+testset['2ndFlrSF']"
      ],
      "metadata": {
        "id": "0pJfWKKYgO9h"
      },
      "execution_count": 125,
      "outputs": []
    },
    {
      "cell_type": "code",
      "source": [
        "## Re-establishing the correlation matrix including the newly created feature.\n",
        "\n",
        "correlation_matrix = trainingset.corr()\n",
        "correlation_matrix['SalePrice'].sort_values(ascending=False)"
      ],
      "metadata": {
        "colab": {
          "base_uri": "https://localhost:8080/"
        },
        "id": "M7Gdo9qVgRFC",
        "outputId": "846a01b5-5ab5-49d2-cd3a-ded7b72996bf"
      },
      "execution_count": 126,
      "outputs": [
        {
          "output_type": "execute_result",
          "data": {
            "text/plain": [
              "SalePrice        1.000000\n",
              "OverallQual      0.790982\n",
              "TotalSqFt        0.716883\n",
              "GrLivArea        0.708624\n",
              "GarageCars       0.640409\n",
              "GarageArea       0.623431\n",
              "TotalBsmtSF      0.613581\n",
              "1stFlrSF         0.605852\n",
              "FullBath         0.560664\n",
              "TotRmsAbvGrd     0.533723\n",
              "YearBuilt        0.522897\n",
              "YearRemodAdd     0.507101\n",
              "GarageYrBlt      0.486362\n",
              "MasVnrArea       0.477493\n",
              "Fireplaces       0.466929\n",
              "BsmtFinSF1       0.386420\n",
              "LotFrontage      0.351799\n",
              "WoodDeckSF       0.324413\n",
              "2ndFlrSF         0.319334\n",
              "OpenPorchSF      0.315856\n",
              "HalfBath         0.284108\n",
              "LotArea          0.263843\n",
              "BsmtFullBath     0.227122\n",
              "BsmtUnfSF        0.214479\n",
              "BedroomAbvGr     0.168213\n",
              "ScreenPorch      0.111447\n",
              "PoolArea         0.092404\n",
              "MoSold           0.046432\n",
              "3SsnPorch        0.044584\n",
              "BsmtFinSF2      -0.011378\n",
              "BsmtHalfBath    -0.016844\n",
              "MiscVal         -0.021190\n",
              "Id              -0.021917\n",
              "LowQualFinSF    -0.025606\n",
              "YrSold          -0.028923\n",
              "OverallCond     -0.077856\n",
              "MSSubClass      -0.084284\n",
              "EnclosedPorch   -0.128578\n",
              "KitchenAbvGr    -0.135907\n",
              "Name: SalePrice, dtype: float64"
            ]
          },
          "metadata": {},
          "execution_count": 126
        }
      ]
    },
    {
      "cell_type": "markdown",
      "source": [
        "As we can see, the new feature is now the third most heavily correlated feature to the target. This is powerful, as more features is more information that can be used in predictions. However, more features usually means more computational power and data storage. Since this is a small dataset of only (starting) 80 features, adding more features will not substantially increase the amount of computational power and data storage that we will need.\n",
        "\n",
        "Now is a good point to look more into the missing data."
      ],
      "metadata": {
        "id": "77fl-B-ugVNM"
      }
    },
    {
      "cell_type": "code",
      "source": [
        "# A better idea of how much data is missing from the features.\n",
        "\n",
        "total = trainingset.isnull().sum().sort_values(ascending=False)\n",
        "percent = (trainingset.isnull().sum()/trainingset.isnull().count()).sort_values(ascending=False)\n",
        "missing_data = pd.concat([total, percent], axis=1, keys=['Total', 'Percent'])\n",
        "missing_data.head(20)"
      ],
      "metadata": {
        "colab": {
          "base_uri": "https://localhost:8080/",
          "height": 0
        },
        "id": "ip_Rzr8bgSbA",
        "outputId": "20f931b9-b072-48a7-8579-c013a7fa9895"
      },
      "execution_count": 127,
      "outputs": [
        {
          "output_type": "execute_result",
          "data": {
            "text/html": [
              "\n",
              "  <div id=\"df-6ab76170-0ab2-408f-a15a-632a385bee52\">\n",
              "    <div class=\"colab-df-container\">\n",
              "      <div>\n",
              "<style scoped>\n",
              "    .dataframe tbody tr th:only-of-type {\n",
              "        vertical-align: middle;\n",
              "    }\n",
              "\n",
              "    .dataframe tbody tr th {\n",
              "        vertical-align: top;\n",
              "    }\n",
              "\n",
              "    .dataframe thead th {\n",
              "        text-align: right;\n",
              "    }\n",
              "</style>\n",
              "<table border=\"1\" class=\"dataframe\">\n",
              "  <thead>\n",
              "    <tr style=\"text-align: right;\">\n",
              "      <th></th>\n",
              "      <th>Total</th>\n",
              "      <th>Percent</th>\n",
              "    </tr>\n",
              "  </thead>\n",
              "  <tbody>\n",
              "    <tr>\n",
              "      <th>PoolQC</th>\n",
              "      <td>1453</td>\n",
              "      <td>0.995205</td>\n",
              "    </tr>\n",
              "    <tr>\n",
              "      <th>MiscFeature</th>\n",
              "      <td>1406</td>\n",
              "      <td>0.963014</td>\n",
              "    </tr>\n",
              "    <tr>\n",
              "      <th>Alley</th>\n",
              "      <td>1369</td>\n",
              "      <td>0.937671</td>\n",
              "    </tr>\n",
              "    <tr>\n",
              "      <th>Fence</th>\n",
              "      <td>1179</td>\n",
              "      <td>0.807534</td>\n",
              "    </tr>\n",
              "    <tr>\n",
              "      <th>FireplaceQu</th>\n",
              "      <td>690</td>\n",
              "      <td>0.472603</td>\n",
              "    </tr>\n",
              "    <tr>\n",
              "      <th>LotFrontage</th>\n",
              "      <td>259</td>\n",
              "      <td>0.177397</td>\n",
              "    </tr>\n",
              "    <tr>\n",
              "      <th>GarageType</th>\n",
              "      <td>81</td>\n",
              "      <td>0.055479</td>\n",
              "    </tr>\n",
              "    <tr>\n",
              "      <th>GarageYrBlt</th>\n",
              "      <td>81</td>\n",
              "      <td>0.055479</td>\n",
              "    </tr>\n",
              "    <tr>\n",
              "      <th>GarageCond</th>\n",
              "      <td>81</td>\n",
              "      <td>0.055479</td>\n",
              "    </tr>\n",
              "    <tr>\n",
              "      <th>GarageQual</th>\n",
              "      <td>81</td>\n",
              "      <td>0.055479</td>\n",
              "    </tr>\n",
              "    <tr>\n",
              "      <th>GarageFinish</th>\n",
              "      <td>81</td>\n",
              "      <td>0.055479</td>\n",
              "    </tr>\n",
              "    <tr>\n",
              "      <th>BsmtFinType2</th>\n",
              "      <td>38</td>\n",
              "      <td>0.026027</td>\n",
              "    </tr>\n",
              "    <tr>\n",
              "      <th>BsmtExposure</th>\n",
              "      <td>38</td>\n",
              "      <td>0.026027</td>\n",
              "    </tr>\n",
              "    <tr>\n",
              "      <th>BsmtQual</th>\n",
              "      <td>37</td>\n",
              "      <td>0.025342</td>\n",
              "    </tr>\n",
              "    <tr>\n",
              "      <th>BsmtCond</th>\n",
              "      <td>37</td>\n",
              "      <td>0.025342</td>\n",
              "    </tr>\n",
              "    <tr>\n",
              "      <th>BsmtFinType1</th>\n",
              "      <td>37</td>\n",
              "      <td>0.025342</td>\n",
              "    </tr>\n",
              "    <tr>\n",
              "      <th>MasVnrType</th>\n",
              "      <td>8</td>\n",
              "      <td>0.005479</td>\n",
              "    </tr>\n",
              "    <tr>\n",
              "      <th>MasVnrArea</th>\n",
              "      <td>8</td>\n",
              "      <td>0.005479</td>\n",
              "    </tr>\n",
              "    <tr>\n",
              "      <th>Electrical</th>\n",
              "      <td>1</td>\n",
              "      <td>0.000685</td>\n",
              "    </tr>\n",
              "    <tr>\n",
              "      <th>Id</th>\n",
              "      <td>0</td>\n",
              "      <td>0.000000</td>\n",
              "    </tr>\n",
              "  </tbody>\n",
              "</table>\n",
              "</div>\n",
              "      <button class=\"colab-df-convert\" onclick=\"convertToInteractive('df-6ab76170-0ab2-408f-a15a-632a385bee52')\"\n",
              "              title=\"Convert this dataframe to an interactive table.\"\n",
              "              style=\"display:none;\">\n",
              "        \n",
              "  <svg xmlns=\"http://www.w3.org/2000/svg\" height=\"24px\"viewBox=\"0 0 24 24\"\n",
              "       width=\"24px\">\n",
              "    <path d=\"M0 0h24v24H0V0z\" fill=\"none\"/>\n",
              "    <path d=\"M18.56 5.44l.94 2.06.94-2.06 2.06-.94-2.06-.94-.94-2.06-.94 2.06-2.06.94zm-11 1L8.5 8.5l.94-2.06 2.06-.94-2.06-.94L8.5 2.5l-.94 2.06-2.06.94zm10 10l.94 2.06.94-2.06 2.06-.94-2.06-.94-.94-2.06-.94 2.06-2.06.94z\"/><path d=\"M17.41 7.96l-1.37-1.37c-.4-.4-.92-.59-1.43-.59-.52 0-1.04.2-1.43.59L10.3 9.45l-7.72 7.72c-.78.78-.78 2.05 0 2.83L4 21.41c.39.39.9.59 1.41.59.51 0 1.02-.2 1.41-.59l7.78-7.78 2.81-2.81c.8-.78.8-2.07 0-2.86zM5.41 20L4 18.59l7.72-7.72 1.47 1.35L5.41 20z\"/>\n",
              "  </svg>\n",
              "      </button>\n",
              "      \n",
              "  <style>\n",
              "    .colab-df-container {\n",
              "      display:flex;\n",
              "      flex-wrap:wrap;\n",
              "      gap: 12px;\n",
              "    }\n",
              "\n",
              "    .colab-df-convert {\n",
              "      background-color: #E8F0FE;\n",
              "      border: none;\n",
              "      border-radius: 50%;\n",
              "      cursor: pointer;\n",
              "      display: none;\n",
              "      fill: #1967D2;\n",
              "      height: 32px;\n",
              "      padding: 0 0 0 0;\n",
              "      width: 32px;\n",
              "    }\n",
              "\n",
              "    .colab-df-convert:hover {\n",
              "      background-color: #E2EBFA;\n",
              "      box-shadow: 0px 1px 2px rgba(60, 64, 67, 0.3), 0px 1px 3px 1px rgba(60, 64, 67, 0.15);\n",
              "      fill: #174EA6;\n",
              "    }\n",
              "\n",
              "    [theme=dark] .colab-df-convert {\n",
              "      background-color: #3B4455;\n",
              "      fill: #D2E3FC;\n",
              "    }\n",
              "\n",
              "    [theme=dark] .colab-df-convert:hover {\n",
              "      background-color: #434B5C;\n",
              "      box-shadow: 0px 1px 3px 1px rgba(0, 0, 0, 0.15);\n",
              "      filter: drop-shadow(0px 1px 2px rgba(0, 0, 0, 0.3));\n",
              "      fill: #FFFFFF;\n",
              "    }\n",
              "  </style>\n",
              "\n",
              "      <script>\n",
              "        const buttonEl =\n",
              "          document.querySelector('#df-6ab76170-0ab2-408f-a15a-632a385bee52 button.colab-df-convert');\n",
              "        buttonEl.style.display =\n",
              "          google.colab.kernel.accessAllowed ? 'block' : 'none';\n",
              "\n",
              "        async function convertToInteractive(key) {\n",
              "          const element = document.querySelector('#df-6ab76170-0ab2-408f-a15a-632a385bee52');\n",
              "          const dataTable =\n",
              "            await google.colab.kernel.invokeFunction('convertToInteractive',\n",
              "                                                     [key], {});\n",
              "          if (!dataTable) return;\n",
              "\n",
              "          const docLinkHtml = 'Like what you see? Visit the ' +\n",
              "            '<a target=\"_blank\" href=https://colab.research.google.com/notebooks/data_table.ipynb>data table notebook</a>'\n",
              "            + ' to learn more about interactive tables.';\n",
              "          element.innerHTML = '';\n",
              "          dataTable['output_type'] = 'display_data';\n",
              "          await google.colab.output.renderOutput(dataTable, element);\n",
              "          const docLink = document.createElement('div');\n",
              "          docLink.innerHTML = docLinkHtml;\n",
              "          element.appendChild(docLink);\n",
              "        }\n",
              "      </script>\n",
              "    </div>\n",
              "  </div>\n",
              "  "
            ],
            "text/plain": [
              "              Total   Percent\n",
              "PoolQC         1453  0.995205\n",
              "MiscFeature    1406  0.963014\n",
              "Alley          1369  0.937671\n",
              "Fence          1179  0.807534\n",
              "FireplaceQu     690  0.472603\n",
              "LotFrontage     259  0.177397\n",
              "GarageType       81  0.055479\n",
              "GarageYrBlt      81  0.055479\n",
              "GarageCond       81  0.055479\n",
              "GarageQual       81  0.055479\n",
              "GarageFinish     81  0.055479\n",
              "BsmtFinType2     38  0.026027\n",
              "BsmtExposure     38  0.026027\n",
              "BsmtQual         37  0.025342\n",
              "BsmtCond         37  0.025342\n",
              "BsmtFinType1     37  0.025342\n",
              "MasVnrType        8  0.005479\n",
              "MasVnrArea        8  0.005479\n",
              "Electrical        1  0.000685\n",
              "Id                0  0.000000"
            ]
          },
          "metadata": {},
          "execution_count": 127
        }
      ]
    },
    {
      "cell_type": "markdown",
      "source": [
        "Here we have percentages of how much data is missing from each feature. We can decide how big of a percent makes sense on eliminating features from the dataset. In data pipelines, you can establish a threshold to automatically drop features that are missing too many data instances, such as 0.8 for 80%. However, it is also good to look into features before dropping them."
      ],
      "metadata": {
        "id": "f4QTAvfchcQG"
      }
    },
    {
      "cell_type": "code",
      "source": [
        "## Looking into PoolQC, the dataset missing the most values.\n",
        "\n",
        "trainingset['PoolQC'].value_counts() ## Since this is a categorical feature (object datatype), we can count how many categories and how many iterations of those categories there are."
      ],
      "metadata": {
        "colab": {
          "base_uri": "https://localhost:8080/"
        },
        "id": "pT_r7QMKhaGh",
        "outputId": "c9fb0acd-4fe8-4e2d-ab79-404864a737c7"
      },
      "execution_count": 128,
      "outputs": [
        {
          "output_type": "execute_result",
          "data": {
            "text/plain": [
              "Gd    3\n",
              "Ex    2\n",
              "Fa    2\n",
              "Name: PoolQC, dtype: int64"
            ]
          },
          "metadata": {},
          "execution_count": 128
        }
      ]
    },
    {
      "cell_type": "markdown",
      "source": [
        "There really isn't much here to work with. There are only 7 instances that hold actual values, and 'NaN' doesn't necessarily mean that the house has no pool. There is also no 'Bad' condition for the pool, so it is easy to assume that this feature is simply incomplete and can be removed."
      ],
      "metadata": {
        "id": "DOh4lFmzhkgV"
      }
    },
    {
      "cell_type": "code",
      "source": [
        "trainingset['MiscFeature'].value_counts()"
      ],
      "metadata": {
        "colab": {
          "base_uri": "https://localhost:8080/"
        },
        "id": "5tWI06SNhiZr",
        "outputId": "cd0422f6-05d1-4f27-934b-fe73b41c01f4"
      },
      "execution_count": 129,
      "outputs": [
        {
          "output_type": "execute_result",
          "data": {
            "text/plain": [
              "Shed    49\n",
              "Gar2     2\n",
              "Othr     2\n",
              "TenC     1\n",
              "Name: MiscFeature, dtype: int64"
            ]
          },
          "metadata": {},
          "execution_count": 129
        }
      ]
    },
    {
      "cell_type": "markdown",
      "source": [
        "The next feature up to the chopping block, MiscFeature, is also missing a large majority of instances. These features are described in the data description given in the Kaggle competition. While sheds are an important factor (as are tennis courts 'TenC'), there is still simply not enough instances of the categories to warrant keeping. While more information can be a good thing in model training, categorical features will need to be encoded to allow for the actual training and prediction in a linear regression model. Encoding is a process that creates an entire feature built from 1's and 0's for each category, which can bog down the model training to make it take longer. Long training times is a hazard when dealing with data pipelines for continuous streaming, especially with big data. Given that fact, and that we cannot simply assume that all the missing data values can be filled with sheds, we can logically remove this feature as well. "
      ],
      "metadata": {
        "id": "ERFQm-MHhoBf"
      }
    },
    {
      "cell_type": "code",
      "source": [
        "## Next feature that is missing values.\n",
        "\n",
        "trainingset['Alley'].value_counts()"
      ],
      "metadata": {
        "colab": {
          "base_uri": "https://localhost:8080/"
        },
        "id": "cHa1JrjShqw2",
        "outputId": "9b6001b9-53a5-400e-88a7-f2a817b3b735"
      },
      "execution_count": 130,
      "outputs": [
        {
          "output_type": "execute_result",
          "data": {
            "text/plain": [
              "Grvl    50\n",
              "Pave    41\n",
              "Name: Alley, dtype: int64"
            ]
          },
          "metadata": {},
          "execution_count": 130
        }
      ]
    },
    {
      "cell_type": "markdown",
      "source": [
        "This looks like the same issue as above in MiscFeature. Not enough data instances to warrant keeping."
      ],
      "metadata": {
        "id": "9oAmapfuiCzp"
      }
    },
    {
      "cell_type": "code",
      "source": [
        "trainingset['Fence'].value_counts()"
      ],
      "metadata": {
        "colab": {
          "base_uri": "https://localhost:8080/"
        },
        "id": "wlXu6ncViB_w",
        "outputId": "a076522a-9236-47fc-ff8d-1fe0c6b75766"
      },
      "execution_count": 131,
      "outputs": [
        {
          "output_type": "execute_result",
          "data": {
            "text/plain": [
              "MnPrv    157\n",
              "GdPrv     59\n",
              "GdWo      54\n",
              "MnWw      11\n",
              "Name: Fence, dtype: int64"
            ]
          },
          "metadata": {},
          "execution_count": 131
        }
      ]
    },
    {
      "cell_type": "markdown",
      "source": [
        "Same situation here for Fence."
      ],
      "metadata": {
        "id": "yfirdhWXiHf4"
      }
    },
    {
      "cell_type": "code",
      "source": [
        "trainingset['FireplaceQu'].value_counts()"
      ],
      "metadata": {
        "colab": {
          "base_uri": "https://localhost:8080/"
        },
        "id": "NaeefRoDiKND",
        "outputId": "84464cd8-3513-45cd-809c-8ea65caa4807"
      },
      "execution_count": 132,
      "outputs": [
        {
          "output_type": "execute_result",
          "data": {
            "text/plain": [
              "Gd    380\n",
              "TA    313\n",
              "Fa     33\n",
              "Ex     24\n",
              "Po     20\n",
              "Name: FireplaceQu, dtype: int64"
            ]
          },
          "metadata": {},
          "execution_count": 132
        }
      ]
    },
    {
      "cell_type": "markdown",
      "source": [
        "A bulk of the fireplaces are either Gd (Good) or TA (Average). We could fill half of missing values with Gd and half with TA, but that may bias the feature. Logically, most fireplaces are either good or average. Again, may just be acceptable to remove this feature."
      ],
      "metadata": {
        "id": "DDD3zon1iL8f"
      }
    },
    {
      "cell_type": "code",
      "source": [
        "trainingset['LotFrontage'].describe()"
      ],
      "metadata": {
        "colab": {
          "base_uri": "https://localhost:8080/"
        },
        "id": "LjXQaKTLiRPR",
        "outputId": "e6f87cf7-4294-410d-a15e-a23fe128bf96"
      },
      "execution_count": 133,
      "outputs": [
        {
          "output_type": "execute_result",
          "data": {
            "text/plain": [
              "count    1201.000000\n",
              "mean       70.049958\n",
              "std        24.284752\n",
              "min        21.000000\n",
              "25%        59.000000\n",
              "50%        69.000000\n",
              "75%        80.000000\n",
              "max       313.000000\n",
              "Name: LotFrontage, dtype: float64"
            ]
          },
          "metadata": {},
          "execution_count": 133
        }
      ]
    },
    {
      "cell_type": "markdown",
      "source": [
        "LotFrontage is next, which is a numerical feature missing around 18% of its data values. We can see here that the values range from 21 to 313, giving us a median of 69. We can see that the mean is close to the median, so that means the data has a symmetrical distribution. Good information to know, and filling in the missing data with either the mean or the median would work for this feature."
      ],
      "metadata": {
        "id": "WZqvE3KuiSBT"
      }
    },
    {
      "cell_type": "markdown",
      "source": [
        "The rest of the features do not have a significant amount of data missing. They can be filled in with the median for numerical features, and the most frequent for categories. Let's go ahead and drop the features that we determined are not worth keeping.\n",
        "\n",
        "\n",
        "Now it's time to look at the comparison between OverallCond and OverallQual. They appear to be the same, while OverallCond has very little correlation with the target and other features. We can compare these two features visually."
      ],
      "metadata": {
        "id": "K_a-KcKciYVI"
      }
    },
    {
      "cell_type": "code",
      "source": [
        "## Plotting OverallCond vs OverallQual\n",
        "plt.scatter(x=trainingset['OverallCond'], y=trainingset['OverallQual'])\n",
        "plt.ylabel('OverallQual')\n",
        "plt.xlabel('OverallCond')\n",
        "plt.show()"
      ],
      "metadata": {
        "colab": {
          "base_uri": "https://localhost:8080/",
          "height": 0
        },
        "id": "meWKV0zdic-q",
        "outputId": "ee1d7d1a-28a1-4494-e5c3-98af884f8c87"
      },
      "execution_count": 134,
      "outputs": [
        {
          "output_type": "display_data",
          "data": {
            "image/png": "[encoded data removed]",
            "text/plain": [
              "<Figure size 432x288 with 1 Axes>"
            ]
          },
          "metadata": {}
        }
      ]
    },
    {
      "cell_type": "markdown",
      "source": [
        "Visualizing the values in both, we can see that these two features do not correlate well. Since OverallQual is highly correlated to the target, we can go ahead and keep that feature and get rid of OverallCond."
      ],
      "metadata": {
        "id": "LZN8uTqyihW_"
      }
    },
    {
      "cell_type": "code",
      "source": [
        "## Dropping features in both the trainingset and the testset.\n",
        "\n",
        "trainingset = trainingset.drop(columns=['Alley','FireplaceQu','PoolQC','Fence','MiscFeature', 'OverallCond'])\n",
        "testset = testset.drop(columns=['Alley','FireplaceQu','PoolQC','Fence','MiscFeature','OverallCond'])"
      ],
      "metadata": {
        "id": "zyiDGBjQifYg"
      },
      "execution_count": 135,
      "outputs": []
    },
    {
      "cell_type": "markdown",
      "source": [
        "Thus ends the \"extraction\" or \"ingestion\" point of the script. Assuming this is an ETL system, which is one of the most common data processes, we can now transform the data before loading it into a database.  "
      ],
      "metadata": {
        "id": "-gIuQeq5inxE"
      }
    },
    {
      "cell_type": "markdown",
      "source": [
        "# Data Transformation"
      ],
      "metadata": {
        "id": "fFCysriSjE5W"
      }
    },
    {
      "cell_type": "markdown",
      "source": [
        "To start with the data transformation, we can look into filling the missing data instances."
      ],
      "metadata": {
        "id": "eYPoYp8ijUmg"
      }
    },
    {
      "cell_type": "code",
      "source": [
        "## Fitting models requires a separate y array, so we'll split the training data here.\n",
        "\n",
        "y = trainingset['SalePrice'] "
      ],
      "metadata": {
        "id": "M08tsEvMijeR"
      },
      "execution_count": 136,
      "outputs": []
    },
    {
      "cell_type": "code",
      "source": [
        "## Dropping the target from the training set, no need to do it to the test set since it isn't present in it.\n",
        "\n",
        "trainingset = trainingset.drop(columns = 'SalePrice') "
      ],
      "metadata": {
        "id": "zaYmqlmDjjrN"
      },
      "execution_count": 137,
      "outputs": []
    },
    {
      "cell_type": "code",
      "source": [
        "## Separating the training set and test set by numerical and categorical features.\n",
        "\n",
        "trainset_nums = trainingset.select_dtypes(np.number) ## numericals\n",
        "trainset_cats = trainingset.select_dtypes([object]) ## categoricals"
      ],
      "metadata": {
        "id": "KLMoXDxqjwCg"
      },
      "execution_count": 138,
      "outputs": []
    },
    {
      "cell_type": "code",
      "source": [
        "## Test set split.\n",
        "\n",
        "testset_nums = trainingset.select_dtypes(np.number) ##numericals\n",
        "testset_cats = trainingset.select_dtypes([object]) ## categoricals"
      ],
      "metadata": {
        "id": "ZMwggt0Ej2eG"
      },
      "execution_count": 139,
      "outputs": []
    },
    {
      "cell_type": "code",
      "source": [
        "## Imputing missing values using the median of each feature in the numerical training dataset.\n",
        "\n",
        "from sklearn.impute import SimpleImputer\n",
        "imputer = SimpleImputer(missing_values = np.nan, strategy = 'median')\n",
        "trainset_numfilled = imputer.fit_transform(trainset_nums)"
      ],
      "metadata": {
        "id": "cvKJweB3j-Pf"
      },
      "execution_count": 140,
      "outputs": []
    },
    {
      "cell_type": "code",
      "source": [
        "## Transforming the test set using the parameters fit from the training set.\n",
        "\n",
        "testset_numfilled = imputer.transform(testset_nums) "
      ],
      "metadata": {
        "id": "dGkIOoGbkNiB"
      },
      "execution_count": 141,
      "outputs": []
    },
    {
      "cell_type": "markdown",
      "source": [
        "An important note here: When transforming a data set for model predictions, fitting the transformer to the training set first is crucial. Then, transform the test set with the same parameters used to transform the training set. This is due to the fact that we do not know the parameters of the test set whatsoever, as well as to keep the data consistent on the same scale. Doing this avoids data leakage, which could make the model overconfident and inefficient for extrapolation."
      ],
      "metadata": {
        "id": "GXsW1VYQkQ1T"
      }
    },
    {
      "cell_type": "code",
      "source": [
        "## Creating pandas dataframes for the numerical features of the training set and test set to allow for easy concatenation later on.\n",
        "\n",
        "trainset_numfilled = pd.DataFrame(trainset_numfilled,columns=trainset_nums.columns) \n",
        "\n",
        "testset_numfilled = pd.DataFrame(testset_numfilled,columns=testset_nums.columns)"
      ],
      "metadata": {
        "id": "Pi3jXlLmlJHD"
      },
      "execution_count": 142,
      "outputs": []
    },
    {
      "cell_type": "code",
      "source": [
        "## Encoding categorical features to become numerical values. Our models later on require all numerical features.\n",
        "\n",
        "from sklearn.preprocessing import OneHotEncoder \n",
        "ohc = OneHotEncoder(drop='first', sparse=False)  ## Dropping the first category of each feature. Avoiding a sparse matrix as dense matrices are easier to work with (with smaller data)."
      ],
      "metadata": {
        "id": "TZFErKsRlzgK"
      },
      "execution_count": 143,
      "outputs": []
    },
    {
      "cell_type": "markdown",
      "source": [
        "Now it is time to encode the categorical features to become numerical representations of each category. These are also known as 'dummy variables'. Each category of each feature will be encoded to be a binary vector (column). \n",
        "\n",
        "Dropping one of the categories per feature to avoid dummy variable trap. Avoids creating multicollinear variables when encoding categorical features."
      ],
      "metadata": {
        "id": "mUn4AxUvl_XI"
      }
    },
    {
      "cell_type": "code",
      "source": [
        "## Creating a pandas dataframe for the training set and test set encoded categorical features. \n",
        "\n",
        "encoded_traincats = pd.DataFrame(ohc.fit_transform(trainset_cats)) ## Train set\n",
        "\n",
        "encoded_testcats = pd.DataFrame(ohc.transform(testset_cats)) ## Test set"
      ],
      "metadata": {
        "id": "9znJepGcobxK"
      },
      "execution_count": 144,
      "outputs": []
    },
    {
      "cell_type": "markdown",
      "source": [
        "With the missing data imputed for the numerical features, and the categorical features encoded, now it is time to look into the predictive target."
      ],
      "metadata": {
        "id": "I0gpXBeho0wH"
      }
    },
    {
      "cell_type": "code",
      "source": [
        "from scipy import stats\n",
        "\n",
        "sns.histplot(data = y, kde=True); ## Plotting a histogram of the target 'SalePrice' stored in variable 'y'. KDE will be plotted on-top of the histogram plot.\n",
        "plt.title('Target Distribution')\n",
        "plt.ylabel('Count')\n",
        "plt.xlabel('SalePrice')\n",
        "fig = plt.figure()"
      ],
      "metadata": {
        "id": "8RTNDcf7o0ZF",
        "colab": {
          "base_uri": "https://localhost:8080/",
          "height": 0
        },
        "outputId": "265c5ec0-e549-4d8a-ccd3-297f90a6623c"
      },
      "execution_count": 145,
      "outputs": [
        {
          "output_type": "display_data",
          "data": {
            "image/png": "[encoded data removed]",
            "text/plain": [
              "<Figure size 432x288 with 1 Axes>"
            ]
          },
          "metadata": {}
        },
        {
          "output_type": "display_data",
          "data": {
            "text/plain": [
              "<Figure size 432x288 with 0 Axes>"
            ]
          },
          "metadata": {}
        }
      ]
    },
    {
      "cell_type": "markdown",
      "source": [
        "The target is skewed to the right (positive).  The Kermal Density Estimate (KDE) plot shows the overall shape of the skew. Histogram plots give a rough shape of the data depending on how many bins are included in the plot, whereas the KDE plot uses all data points and plots along the density of the set, not just peak values. Both are useful together to see the peaks of the data, as well as a good overall shape."
      ],
      "metadata": {
        "id": "Gxjf0QjWkigP"
      }
    },
    {
      "cell_type": "code",
      "source": [
        "## Plotting a probability plot\n",
        "\n",
        "res = stats.probplot(y, plot=plt)"
      ],
      "metadata": {
        "id": "Pdi32K_Oovd6",
        "colab": {
          "base_uri": "https://localhost:8080/",
          "height": 0
        },
        "outputId": "de108adf-44f9-4e40-b427-53ba1025e253"
      },
      "execution_count": 146,
      "outputs": [
        {
          "output_type": "display_data",
          "data": {
            "image/png": "[encoded data removed]",
            "text/plain": [
              "<Figure size 432x288 with 1 Axes>"
            ]
          },
          "metadata": {}
        }
      ]
    },
    {
      "cell_type": "markdown",
      "source": [
        "The probability plot shows that the data currently does not follow a good normal distribution, therefore extrapolation will not be very effective given how the target data is skewed. Linearizing the data through a scale would eliminate the skew."
      ],
      "metadata": {
        "id": "AiW_GmcslfiD"
      }
    },
    {
      "cell_type": "code",
      "source": [
        "## Scaling the data by taking the natural log of the target.\n",
        "\n",
        "y = np.log1p(y)"
      ],
      "metadata": {
        "id": "ywI2r44XlPWh"
      },
      "execution_count": 147,
      "outputs": []
    },
    {
      "cell_type": "markdown",
      "source": [
        "The above calculates log(1+y) of the data set for each instance (or element) of the target array. Adding 1 inside the log ensures that we won't run into the issue of a 0 value being in the target data. Taking the log of the data will essentially eliminate the skew, condensing the larger data values that are causing the right-hand skew into smaller values closer to the mean. This leads to a symmetric normal distribution (also known as Gaussian distribution) at the mean of the data. In other words, log changes the range of values in the data.\n",
        "\n",
        "*Note that this is not a standard normal distribution, which would have mean located at 0 and a unit variance of 1.\n",
        "\n",
        "**Variance** is the average squared deviations from the mean, while standard deviation is the square root of this number. Unit variance is simply dividing all data values by the standard deviation. This ensures proportionate contribution from all the features.\n",
        "\n",
        "**Standard deviation** is the average amount of variability in the dataset. It shows on average how far each value lies from the mean. \n",
        "\n",
        "Now that the data has been scaled by log, we can check the skew and probability plot again."
      ],
      "metadata": {
        "id": "q81ANV_omP7h"
      }
    },
    {
      "cell_type": "code",
      "source": [
        "sns.histplot(data = y, kde=True);\n",
        "fig = plt.figure()\n",
        "res = stats.probplot(y, plot=plt)"
      ],
      "metadata": {
        "colab": {
          "base_uri": "https://localhost:8080/",
          "height": 0
        },
        "id": "tKyUbsTsm0Nk",
        "outputId": "53b5b6b5-66b7-4376-da79-26a3b8f1622b"
      },
      "execution_count": 148,
      "outputs": [
        {
          "output_type": "display_data",
          "data": {
            "image/png": "[encoded data removed]",
            "text/plain": [
              "<Figure size 432x288 with 1 Axes>"
            ]
          },
          "metadata": {}
        },
        {
          "output_type": "display_data",
          "data": {
            "image/png": "[encoded data removed]",
            "text/plain": [
              "<Figure size 432x288 with 1 Axes>"
            ]
          },
          "metadata": {}
        }
      ]
    },
    {
      "cell_type": "markdown",
      "source": [
        "As we can see, the histogram/KDE plot shows that the data is distributed normally where the center is the mean of the data, which will make predictions much more accurate in regression models. The probability plot also shows that the data is normally distributed, which will allow the model to extrapolate more efficiently."
      ],
      "metadata": {
        "id": "ik5IZ8loFcsc"
      }
    },
    {
      "cell_type": "code",
      "source": [
        "from sklearn.preprocessing import StandardScaler \n",
        "\n",
        "sc = StandardScaler() # No parameters needed\n",
        "trainset_numfilled = pd.DataFrame(sc.fit_transform(trainset_numfilled, y), columns = trainset_nums.columns) ## Establishing a pandas dataframe for the test set and \n",
        "testset_numfilled = pd.DataFrame(sc.transform(testset_numfilled)) "
      ],
      "metadata": {
        "id": "iKwInmAaFbT5"
      },
      "execution_count": 149,
      "outputs": []
    },
    {
      "cell_type": "markdown",
      "source": [
        "StandardScaler is a good way to ensure all numerical data is on the same scale by removing the mean and scaling to unit variance. This scaling maintains the weight coefficients of each feature, while ensuring no feature dominates others in terms of magnitude.  \n",
        "\n",
        "The way this works is that StandardScaler normalizes the features individually, where each feature will have a mean of 0 and standard deviation of 1. The values are calculated to be how many standard deviations the original value was from the mean. The range of the scaled data will depend on the dataset and is not predetermined. (Unlike normalization, which would result in a range of values equal to 0 to 1.)"
      ],
      "metadata": {
        "id": "UScOtQPGG_nR"
      }
    },
    {
      "cell_type": "code",
      "source": [
        "## Resetting indices for concatenation for both training set and test set. \n",
        "\n",
        "trainset_numfilled.reset_index(drop=True, inplace=True) # Training set\n",
        "encoded_traincats.reset_index(drop=True, inplace=True)\n",
        "\n",
        "\n",
        "testset_numfilled.reset_index(drop=True, inplace=True) # Test set\n",
        "encoded_testcats.reset_index(drop=True, inplace=True)"
      ],
      "metadata": {
        "id": "NOVEC8i5TCkt"
      },
      "execution_count": 150,
      "outputs": []
    },
    {
      "cell_type": "markdown",
      "source": [
        "Prepping data for concatenation by resetting the indices. This ensures that the indices between the two datasets will allign. If the indices are mis-alligned, NaN values will be returned."
      ],
      "metadata": {
        "id": "X7AGMdvslu_Q"
      }
    },
    {
      "cell_type": "code",
      "source": [
        "## Concatenating the transformed numerical and categorical features into a final training set.\n",
        "\n",
        "trainset_total = pd.concat([trainset_numfilled,encoded_traincats],axis=1)"
      ],
      "metadata": {
        "id": "JJMXQD3agaei"
      },
      "execution_count": 151,
      "outputs": []
    },
    {
      "cell_type": "code",
      "source": [
        "## Concatenating the transformed numerical and categorical features into a final test set.\n",
        "\n",
        "testset_total = pd.concat([testset_numfilled,encoded_testcats],axis=1)"
      ],
      "metadata": {
        "id": "jU4MB6LAgFxz"
      },
      "execution_count": 152,
      "outputs": []
    },
    {
      "cell_type": "markdown",
      "source": [
        "# Model Training & Prediction"
      ],
      "metadata": {
        "id": "HssmlEJ5mgDr"
      }
    },
    {
      "cell_type": "markdown",
      "source": [
        "From here we will be building machine learning models. I have not gone into depth on underfitting and overfitting, aka the bias vs variance tradeoff. But if the r2 score is very low, we can assume that the model is underfitting (high biased). However, if the r2 score is too high this could indicate overfitting (high variance). Using the Mean Squared Error (MSE) and Mean Absolute Error (MBE) give us a better indication of the performance of the model. I will be looking into all of these numbers as I score each model's efficiency."
      ],
      "metadata": {
        "id": "qeKtMFNSq9HP"
      }
    },
    {
      "cell_type": "code",
      "source": [
        "from sklearn.metrics import mean_squared_error\n",
        "from sklearn.metrics import mean_absolute_error\n",
        "from sklearn.metrics import r2_score\n",
        "\n",
        "## Defining a function to quickly score the models.\n",
        "\n",
        "def GetErrors(y_true, y_pred):\n",
        "  mse = mean_squared_error(y_true, y_pred) ## Mean Squared Error. Closer to 0 is better.\n",
        "  rmse = mean_squared_error(y_true, y_pred, squared = False) ## Root Mean Squared Error. Closer to 0 is better.\n",
        "  mae = mean_absolute_error(y_true, y_pred) ## Mean Absolute Error. Close to 0 is better.\n",
        "  r2 = r2_score(y_true, y_pred) ## Suppose to be between 0 and 1. Closer to 1 is better. Negative means poorly fitting model.\n",
        "  print('MSE is: {}'.format(mse))\n",
        "  print('RMSE is: {}'.format(rmse))\n",
        "  print('MAE is: {}'.format(mae))\n",
        "  print('R Squared is: {}'.format(r2))"
      ],
      "metadata": {
        "id": "yPtfH__Uq4WG"
      },
      "execution_count": 153,
      "outputs": []
    },
    {
      "cell_type": "code",
      "source": [
        "## To begin, we test the data in a simple Linear Regression model.\n",
        "\n",
        "from sklearn.linear_model import LinearRegression\n",
        "\n",
        "lr = LinearRegression()\n",
        "lr.fit(np.array(trainset_total),np.array(y))\n",
        "lr_prediction = lr.predict(np.array(testset_total))"
      ],
      "metadata": {
        "id": "9_3KAOGbmkLE"
      },
      "execution_count": 154,
      "outputs": []
    },
    {
      "cell_type": "code",
      "source": [
        "GetErrors(y, lr_prediction) ## Calling the defined function for the four parameters of effiency declared before."
      ],
      "metadata": {
        "colab": {
          "base_uri": "https://localhost:8080/"
        },
        "id": "a-6bDx92r5Ty",
        "outputId": "0d99d47e-b735-48e8-fbb6-0bf1a6c30c3f"
      },
      "execution_count": 157,
      "outputs": [
        {
          "output_type": "stream",
          "name": "stdout",
          "text": [
            "MSE is: 0.013091279562713371\n",
            "RMSE is: 0.11441712967346004\n",
            "MAE is: 0.08396257483596181\n",
            "R Squared is: 0.9178974983314034\n"
          ]
        }
      ]
    },
    {
      "cell_type": "markdown",
      "source": [
        "Here we can see the R^2 value is 91%, which is a good indication that the model is fit well to the training data. The MSE value of 1.3% indicates that the error difference between the predicted value and the actual value (the 'SalePrice' y variable) is quite small. Overall this is not a bad model. "
      ],
      "metadata": {
        "id": "v17HA9gPr6T4"
      }
    },
    {
      "cell_type": "code",
      "source": [
        "plt.scatter(x=lr_prediction, y=y)\n",
        "plt.ylabel('Actual Value')\n",
        "plt.xlabel('Predicted Value')\n",
        "plt.show()"
      ],
      "metadata": {
        "colab": {
          "base_uri": "https://localhost:8080/",
          "height": 298
        },
        "id": "0tBB4tHDq2o1",
        "outputId": "dd1ce5e0-2df8-4565-8e94-1474f4ef79a1"
      },
      "execution_count": 155,
      "outputs": [
        {
          "output_type": "display_data",
          "data": {
            "image/png": "[encoded data removed]",
            "text/plain": [
              "<Figure size 432x288 with 1 Axes>"
            ]
          },
          "metadata": {}
        }
      ]
    },
    {
      "cell_type": "markdown",
      "source": [
        "Plotting the actual data vs predicted values, we can see that there are some outliers, but otherwise the data is fairly linear.\n",
        "\n",
        "Next we will try a Support Vector Regression model."
      ],
      "metadata": {
        "id": "8HHylfBNr3ff"
      }
    },
    {
      "cell_type": "code",
      "source": [
        "## Support Vector Regressor (SVR)\n",
        "\n",
        "from sklearn.svm import SVR\n",
        "svr_reg = SVR(kernel = 'poly') ## Using a polynomial kernel, saw more effiency than the other kernels.\n",
        "svr_reg.fit(np.array(trainset_total), np.array(y))\n",
        "svr_pred = svr_reg.predict(np.array(testset_total))"
      ],
      "metadata": {
        "id": "NLSnMNMXsgmo"
      },
      "execution_count": 158,
      "outputs": []
    },
    {
      "cell_type": "code",
      "source": [
        "GetErrors(y, svr_pred)"
      ],
      "metadata": {
        "colab": {
          "base_uri": "https://localhost:8080/"
        },
        "id": "m1mCuGIIs4dC",
        "outputId": "95aaa234-1696-476f-bc18-85f2f2ee52ef"
      },
      "execution_count": 159,
      "outputs": [
        {
          "output_type": "stream",
          "name": "stdout",
          "text": [
            "MSE is: 0.005913115735624703\n",
            "RMSE is: 0.07689678625030244\n",
            "MAE is: 0.06439258410660226\n",
            "R Squared is: 0.9629156499007567\n"
          ]
        }
      ]
    },
    {
      "cell_type": "markdown",
      "source": [
        "The SVR model did considerably better than the linear regression model, this was to be expected as the SVR model does not factor in outliers as much as the linear regression model does."
      ],
      "metadata": {
        "id": "Vr8msNM7s9ZA"
      }
    },
    {
      "cell_type": "code",
      "source": [
        "plt.scatter(x=svr_pred, y=y)\n",
        "plt.ylabel('Actual Value')\n",
        "plt.xlabel('Predicted Value')\n",
        "plt.show()"
      ],
      "metadata": {
        "colab": {
          "base_uri": "https://localhost:8080/",
          "height": 298
        },
        "id": "Bo2xdtgWs5aR",
        "outputId": "53b74bc7-9abb-49cc-8191-05a5845270e5"
      },
      "execution_count": 160,
      "outputs": [
        {
          "output_type": "display_data",
          "data": {
            "image/png": "[encoded data removed]",
            "text/plain": [
              "<Figure size 432x288 with 1 Axes>"
            ]
          },
          "metadata": {}
        }
      ]
    },
    {
      "cell_type": "markdown",
      "source": [
        "Very linear, with some outliers."
      ],
      "metadata": {
        "id": "Vr_K6EnvtPSo"
      }
    },
    {
      "cell_type": "code",
      "source": [
        "## Random Forest Regressor\n",
        "\n",
        "from sklearn.ensemble import RandomForestRegressor\n",
        "regressor = RandomForestRegressor(n_estimators = 1000) ## n_estimators is the amount of trees.\n",
        "regressor.fit(np.array(trainset_total), np.array(y))\n",
        "rdmfrst = regressor.predict(np.array(testset_total))"
      ],
      "metadata": {
        "id": "pQe3F5aEtTkp"
      },
      "execution_count": 162,
      "outputs": []
    },
    {
      "cell_type": "markdown",
      "source": [
        "Random Forest Regression is an ensemble model, which means that it \"stacks\" the outputs of many different Forest Tree models and uses their predictions in its own prediction. The default amount of trees for sklearn's RandomForestRegressor is 100, but it is more powerful to use more trees (n_estimator). However, this requires more computational power and will increase the time it takes for training the model. Therefore, one should be careful using Random Forest Regressors in streaming processing and any other automated processing that needs to be done quickly."
      ],
      "metadata": {
        "id": "6LFKtXGKtcgX"
      }
    },
    {
      "cell_type": "code",
      "source": [
        "GetErrors(y, rdmfrst)"
      ],
      "metadata": {
        "colab": {
          "base_uri": "https://localhost:8080/"
        },
        "id": "zxFpp_WcuU1H",
        "outputId": "940d3cb3-83e4-40ff-9af3-3cf40543a319"
      },
      "execution_count": 164,
      "outputs": [
        {
          "output_type": "stream",
          "name": "stdout",
          "text": [
            "MSE is: 0.002881699770808193\n",
            "RMSE is: 0.05368146580346138\n",
            "MAE is: 0.03579695729285229\n",
            "R Squared is: 0.9819273006043623\n"
          ]
        }
      ]
    },
    {
      "cell_type": "markdown",
      "source": [
        "Here we can see an R^2 value of 98%, with an MSE of 0.28% This indicates that the model is fit well to the data, with a prediction error that's very low."
      ],
      "metadata": {
        "id": "k39HIvM2ve3h"
      }
    },
    {
      "cell_type": "code",
      "source": [
        "plt.scatter(x=rdmfrst, y=y)\n",
        "plt.ylabel('Actual Value')\n",
        "plt.xlabel('Predicted Value')\n",
        "plt.show()"
      ],
      "metadata": {
        "colab": {
          "base_uri": "https://localhost:8080/",
          "height": 298
        },
        "id": "yUzALg1duWmj",
        "outputId": "8b76319b-8e44-4d04-aa27-4d7ddb3758a8"
      },
      "execution_count": 165,
      "outputs": [
        {
          "output_type": "display_data",
          "data": {
            "image/png": "[encoded data removed]",
            "text/plain": [
              "<Figure size 432x288 with 1 Axes>"
            ]
          },
          "metadata": {}
        }
      ]
    },
    {
      "cell_type": "markdown",
      "source": [
        "Visualizing the errors shows that the predictions vs actual values is linear and the line is tight. The Random Forest Regressor is the best pick out of the three models."
      ],
      "metadata": {
        "id": "ip5JBxFYvs2e"
      }
    }
  ]
}